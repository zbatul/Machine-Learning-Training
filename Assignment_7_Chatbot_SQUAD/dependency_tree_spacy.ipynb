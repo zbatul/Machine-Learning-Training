{
 "cells": [
  {
   "cell_type": "markdown",
   "metadata": {
    "deletable": true,
    "editable": true
   },
   "source": [
    "## Dependency Tree"
   ]
  },
  {
   "cell_type": "code",
   "execution_count": 4,
   "metadata": {
    "collapsed": true,
    "deletable": true,
    "editable": true
   },
   "outputs": [],
   "source": [
    "import spacy\n",
    "from nltk import Tree"
   ]
  },
  {
   "cell_type": "code",
   "execution_count": 5,
   "metadata": {
    "collapsed": true,
    "deletable": true,
    "editable": true
   },
   "outputs": [],
   "source": [
    "passage_1 = \"\"\"Oxygen is a chemical element.\n",
    "Oxygen symbol is O.\n",
    "Atomic number of oxygen is 8.\n",
    "Oxygen is a member of the chalcogen group on the periodic table.\n",
    "Oxygen is a highly reactive nonmetal and oxidizing agent.\n",
    "Oxygen readily forms compounds with most elements.\n",
    "Hydrogen is the most abundant element in the universe.\n",
    "Oxygen is the third-most abundant element in the universe.\n",
    "Two atoms of the element bind to form dioxygen.\n",
    "Oxygen is a colorless and odorless diatomic gas.\n",
    "Diatomic oxygen gas constitutes 20.8% of the Earth atmosphere.\n",
    "A global downward trend is seen because of fossil-fuel burning.\n",
    "Oxygen is the most abundant element by mass in the Earth's crust.\n",
    "Oxygen makes up almost half of the crust's mass.\"\"\""
   ]
  },
  {
   "cell_type": "code",
   "execution_count": 6,
   "metadata": {
    "collapsed": true,
    "deletable": true,
    "editable": true
   },
   "outputs": [],
   "source": [
    "questions_1 = [\"What is the most abundant element?\",\n",
    "             \"What is the atomic number of the periodic table for oxygen?\",\n",
    "             \"How many atoms combine to form dioxygen?\",\n",
    "             \"How much oxygen makes up the Earth crust?\",\n",
    "             \"Which gas makes up 20.8% of the Earth's atmosphere?\",\n",
    "             \"What element makes up almost half of the earth's crust by mass?\",\n",
    "             \"What is the atomic number of the element oxygen?\"]"
   ]
  },
  {
   "cell_type": "code",
   "execution_count": 7,
   "metadata": {
    "collapsed": true,
    "deletable": true,
    "editable": true
   },
   "outputs": [],
   "source": [
    "en_nlp = spacy.load('en')"
   ]
  },
  {
   "cell_type": "code",
   "execution_count": 8,
   "metadata": {
    "collapsed": true,
    "deletable": true,
    "editable": true
   },
   "outputs": [],
   "source": [
    "doc = en_nlp(passage_1)"
   ]
  },
  {
   "cell_type": "code",
   "execution_count": 10,
   "metadata": {
    "collapsed": true,
    "deletable": true,
    "editable": true
   },
   "outputs": [],
   "source": [
    "def to_nltk_tree(node):\n",
    "    if node.n_lefts + node.n_rights > 0:\n",
    "        return Tree(node.orth_, [to_nltk_tree(child) for child in node.children])\n",
    "    else:\n",
    "        return node.orth_"
   ]
  },
  {
   "cell_type": "code",
   "execution_count": 14,
   "metadata": {
    "collapsed": false,
    "deletable": true,
    "editable": true
   },
   "outputs": [
    {
     "name": "stdout",
     "output_type": "stream",
     "text": [
      "          is_VBZ                           \n",
      "     _______|____________________________   \n",
      "    |            element_NN             ._.\n",
      "    |        ________|___________        |  \n",
      "Oxygen_NN  a_DT             chemical_JJ    \n",
      "                                        _SP\n",
      "\n",
      "                  is_VBZ                                \n",
      "     _______________|_________________________________   \n",
      "    |                     is_VBZ                      | \n",
      "    |        _______________|________                 |  \n",
      "    |       |                    number_NN            | \n",
      "    |       |        ________________|_________       |  \n",
      "symbol_NN   |       |              O._NNP    of_IN   ._.\n",
      "    |       |       |                |         |      |  \n",
      "Oxygen_NNP 8_CD Atomic_JJ                  oxygen_NN    \n",
      "                                    _SP              _SP\n",
      "\n",
      "                            is_VBZ                                   \n",
      "     _________________________|____________________________________   \n",
      "    |          member_NN                                           | \n",
      "    |       _______|__________                                     |  \n",
      "    |      |                of_IN                                  | \n",
      "    |      |                  |                                    |  \n",
      "    |      |               group_NN                                | \n",
      "    |      |        __________|_________________                   |  \n",
      "    |      |       |          |               on_IN                | \n",
      "    |      |       |          |                 |                  |  \n",
      "    |      |       |          |              table_NN             ._.\n",
      "    |      |       |          |          _______|__________        |  \n",
      "Oxygen_NN a_DT   the_DT  chalcogen_NN the_DT          periodic_JJ    \n",
      "                                                                  _SP\n",
      "\n",
      "                  is_VBZ                                \n",
      "     _______________|_________________________________   \n",
      "    |          nonmetal_NN                            | \n",
      "    |       ________|________________________         |  \n",
      "    |      |        |      reactive_JJ    agent_NN   ._.\n",
      "    |      |        |           |            |        |  \n",
      "Oxygen_NN a_DT    and_CC    highly_RB  oxidizing_VBG    \n",
      "                                                     _SP\n",
      "\n",
      "          forms_VBZ                   \n",
      "     _________|_____________________   \n",
      "    |         |      compounds_NNS  | \n",
      "    |         |            |        |  \n",
      "    |         |         with_IN     | \n",
      "    |         |            |        |  \n",
      "    |         |       elements_NNS ._.\n",
      "    |         |            |        |  \n",
      "Oxygen_NN readily_RB    most_JJS      \n",
      "                                   _SP\n",
      "\n",
      "                      is_VBZ                  \n",
      "      __________________|___________________   \n",
      "     |              element_NN              | \n",
      "     |         _________|___________        |  \n",
      "     |        |         |         in_IN     | \n",
      "     |        |         |           |       |  \n",
      "     |        |    abundant_JJ universe_NN ._.\n",
      "     |        |         |           |       |  \n",
      "Hydrogen_NN the_DT   most_RBS     the_DT      \n",
      "                                           _SP\n",
      "\n",
      "                             is_VBZ                           \n",
      "     __________________________|____________________________   \n",
      "    |                      element_NN                       | \n",
      "    |        __________________|____________________        |  \n",
      "    |       |                  |                  in_IN     | \n",
      "    |       |                  |                    |       |  \n",
      "    |       |             abundant_JJ          universe_NN ._.\n",
      "    |       |        __________|_________           |       |  \n",
      "Oxygen_NN the_DT third_JJ    -_HYPH   most_RBS    the_DT      \n",
      "                                                           _SP\n",
      "\n",
      "                      atoms_NNS                               \n",
      "   _______________________|_________________________________   \n",
      "  |            of_IN                      |                 | \n",
      "  |              |                        |                 |  \n",
      "  |           bind_NN                  form_VB             ._.\n",
      "  |       _______|________          ______|_________        |  \n",
      "Two_CD the_DT         element_NN to_TO         dioxygen_NN    \n",
      "                                                           _SP\n",
      "\n",
      "                  is_VBZ                                      \n",
      "     _______________|_______________________________________   \n",
      "    |             gas_NN                                    | \n",
      "    |       ________|__________________                     |  \n",
      "    |      |        |             colorless_JJ             ._.\n",
      "    |      |        |         _________|____________        |  \n",
      "Oxygen_NN a_DT diatomic_JJ and_CC              odorless_JJ    \n",
      "                                                           _SP\n",
      "\n",
      "                             constitutes_VBZ                            \n",
      "               _____________________|_________________________________   \n",
      "              |                                 20.8%_CD              | \n",
      "              |                                    |                  |  \n",
      "              |                                  of_IN                | \n",
      "              |                                    |                  |  \n",
      "            gas_NN                           atmosphere_NN           ._.\n",
      "      ________|________              ______________|___________       |  \n",
      "Diatomic_JJ        oxygen_NN      the_DT                   Earth_NNP    \n",
      "                                                                     _SP\n",
      "\n",
      "                        seen_VBN                                        \n",
      "   ________________________|__________________________________________   \n",
      "  |             |                       because_IN                    | \n",
      "  |             |                    _______|__________               |  \n",
      "  |             |                   |              burning_NN         | \n",
      "  |             |                   |                  |              |  \n",
      "  |          trend_NN               |               fuel_NN          ._.\n",
      "  |      _______|__________         |        __________|________      |  \n",
      "is_VBZ A_DT global_JJ downward_JJ of_IN fossil_NN             -_HYPH    \n",
      "                                                                     _SP\n",
      "\n",
      "                    is_VBZ                              \n",
      "     _________________|_______________________________   \n",
      "    |             element_NN                          | \n",
      "    |        _________|_________________              |  \n",
      "    |       |         |               by_IN           | \n",
      "    |       |         |                 |             |  \n",
      "    |       |         |              mass_NN          | \n",
      "    |       |         |                 |             |  \n",
      "    |       |         |               in_IN           | \n",
      "    |       |         |                 |             |  \n",
      "    |       |         |              crust_NN         | \n",
      "    |       |         |                 |             |  \n",
      "    |       |    abundant_JJ        Earth_NNP        ._.\n",
      "    |       |         |         ________|_______      |  \n",
      "Oxygen_NN the_DT   most_RBS  the_DT           's_POS    \n",
      "                                                     _SP\n",
      "\n",
      "                 makes_VBZ                                  \n",
      "     ________________|__________________                     \n",
      "    |        |       |               half_NN                \n",
      "    |        |       |          ________|_______             \n",
      "    |        |       |         |              of_IN         \n",
      "    |        |       |         |                |            \n",
      "    |        |       |         |             mass_NN        \n",
      "    |        |       |         |                |            \n",
      "    |        |       |         |             crust_NN       \n",
      "    |        |       |         |         _______|_______     \n",
      "Oxygen_NNP up_RP    ._.    almost_RB  the_DT          's_POS\n",
      "\n"
     ]
    },
    {
     "data": {
      "text/plain": [
       "[None, None, None, None, None, None, None, None, None, None, None, None, None]"
      ]
     },
     "execution_count": 14,
     "metadata": {},
     "output_type": "execute_result"
    }
   ],
   "source": [
    "[to_nltk_tree(sent.root).pretty_print() for sent in doc.sents]"
   ]
  },
  {
   "cell_type": "code",
   "execution_count": null,
   "metadata": {
    "collapsed": true,
    "deletable": true,
    "editable": true
   },
   "outputs": [],
   "source": []
  }
 ],
 "metadata": {
  "kernelspec": {
   "display_name": "Python 3",
   "language": "python",
   "name": "python3"
  },
  "language_info": {
   "codemirror_mode": {
    "name": "ipython",
    "version": 3
   },
   "file_extension": ".py",
   "mimetype": "text/x-python",
   "name": "python",
   "nbconvert_exporter": "python",
   "pygments_lexer": "ipython3",
   "version": "3.5.2"
  }
 },
 "nbformat": 4,
 "nbformat_minor": 2
}
