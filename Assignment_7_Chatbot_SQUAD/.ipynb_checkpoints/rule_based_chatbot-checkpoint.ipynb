{
 "cells": [
  {
   "cell_type": "markdown",
   "metadata": {
    "deletable": true,
    "editable": true
   },
   "source": [
    "## Rule based Question - Answering"
   ]
  },
  {
   "cell_type": "code",
   "execution_count": 1,
   "metadata": {
    "collapsed": true,
    "deletable": true,
    "editable": true
   },
   "outputs": [],
   "source": [
    "import nltk\n",
    "from nltk.tokenize import sent_tokenize, word_tokenize\n",
    "import re, math\n",
    "from collections import Counter\n",
    "from sklearn.metrics.pairwise import cosine_similarity\n",
    "import numpy as np\n",
    "import gensim\n",
    "from gensim.models import Doc2Vec\n",
    "from nltk.corpus import stopwords"
   ]
  },
  {
   "cell_type": "code",
   "execution_count": 2,
   "metadata": {
    "collapsed": false,
    "deletable": true,
    "editable": true
   },
   "outputs": [],
   "source": [
    "def remove_stopwords(passage, questions):\n",
    "    stop_words = set(stopwords.words(\"english\"))\n",
    "    word_passage = word_tokenize(passage)\n",
    "    questions = \"\".join(questions)\n",
    "    word_question = word_tokenize(questions)\n",
    "    filtered_passage = []\n",
    "    filtered_questions = []\n",
    "    for w in word_passage:\n",
    "        if w not in stop_words:\n",
    "            filtered_passage.append(w)\n",
    "    for q in word_question:\n",
    "        if q not in stop_words:\n",
    "            filtered_questions.append(q)\n",
    "    filt_ques_str = \" \".join(filtered_questions)\n",
    "    filt_ques_str = [ques for ques in filt_ques_str.split(\"?\") if ques!='']\n",
    "    return \" \".join(filtered_passage), filt_ques_str"
   ]
  },
  {
   "cell_type": "code",
   "execution_count": 3,
   "metadata": {
    "collapsed": true,
    "deletable": true,
    "editable": true
   },
   "outputs": [],
   "source": [
    "def create_vector_passage(filt_passage):\n",
    "    sent_passage = [word_tokenize(sent) for sent in sent_tokenize(filt_passage)]\n",
    "    tagged_words = [nltk.pos_tag(word) for word in sent_passage]\n",
    "    tagged_wordlist = [word for sentence in tagged_words for word in sentence]\n",
    "    words, tags = zip(*tagged_wordlist)\n",
    "    documents = gensim.models.doc2vec.TaggedDocument(list(words), list(tags))\n",
    "    doc2vec_model = Doc2Vec(documents=[documents], min_count=1)\n",
    "    docvec = [0] * 100\n",
    "    passage_vec = []\n",
    "    for i in sent_tokenize(filt_passage):\n",
    "        for word in word_tokenize(i):\n",
    "            docvec += doc2vec_model[word]\n",
    "        vec = docvec / len(word_tokenize(i))\n",
    "        passage_vec.append(np.sum(vec)/(np.shape(vec)[0]))\n",
    "    return passage_vec"
   ]
  },
  {
   "cell_type": "code",
   "execution_count": 4,
   "metadata": {
    "collapsed": false,
    "deletable": true,
    "editable": true
   },
   "outputs": [],
   "source": [
    "def create_vector_question(filt_question):\n",
    "    sent_passage = [word_tokenize(sent) for sent in filt_question]\n",
    "    tagged_words = [nltk.pos_tag(word) for word in sent_passage]\n",
    "    tagged_wordlist = [word for sentence in tagged_words for word in sentence]\n",
    "    words, tags = zip(*tagged_wordlist)\n",
    "    documents = gensim.models.doc2vec.TaggedDocument(list(words), list(tags))\n",
    "    doc2vec_model = Doc2Vec(documents=[documents], min_count=1)\n",
    "    docvec = [0] * 100\n",
    "    question_vec = []\n",
    "    for i in filt_question:\n",
    "        for word in word_tokenize(i):\n",
    "            docvec += doc2vec_model[word]\n",
    "        vec = docvec / len(word_tokenize(i))\n",
    "        question_vec.append(np.sum(vec)/(np.shape(vec)[0]))\n",
    "    return question_vec"
   ]
  },
  {
   "cell_type": "code",
   "execution_count": 5,
   "metadata": {
    "collapsed": true,
    "deletable": true,
    "editable": true
   },
   "outputs": [],
   "source": [
    "def get_cosine(sentence, question):\n",
    "    vec1 = Counter(word_tokenize(sentence))\n",
    "    vec2 = Counter(word_tokenize(question))\n",
    "    intersection = set(vec1.keys()) & set(vec2.keys())\n",
    "    numerator = sum([vec1[x] * vec2[x] for x in intersection])\n",
    "\n",
    "    sum1 = sum([vec1[x]**2 for x in vec1.keys()])\n",
    "    sum2 = sum([vec2[x]**2 for x in vec2.keys()])\n",
    "    denominator = math.sqrt(sum1) * math.sqrt(sum2)\n",
    "\n",
    "    if not denominator:\n",
    "        return 0.0\n",
    "    else:\n",
    "        return float(numerator) / denominator"
   ]
  },
  {
   "cell_type": "code",
   "execution_count": 6,
   "metadata": {
    "collapsed": true,
    "deletable": true,
    "editable": true
   },
   "outputs": [],
   "source": [
    "def own_filter(question, wh):\n",
    "    for key in wh.keys():\n",
    "        if key in question:\n",
    "            filt = wh.get(key)\n",
    "    return filt"
   ]
  },
  {
   "cell_type": "code",
   "execution_count": 7,
   "metadata": {
    "collapsed": false,
    "deletable": true,
    "editable": true
   },
   "outputs": [],
   "source": [
    "wh = {\"What\":     [\"GPE\", \"NUMBER\", \"PERSON\", \"ORGANIZATION\"], \n",
    "      \"Which\":    [\"GPE\", \"ORGANIZATION\"] , \n",
    "      \"How many\": [\"NUMBER\"], \n",
    "      \"How much\": [\"NP\"],\n",
    "      \"Who\":      [\"PERSON\"],\n",
    "      \"When\":     [\"DATE\", \"TIME\"] ,\n",
    "      \"Where\":    [\"LOCATION\"]\n",
    "     }"
   ]
  },
  {
   "cell_type": "code",
   "execution_count": 8,
   "metadata": {
    "collapsed": false,
    "deletable": true,
    "editable": true
   },
   "outputs": [],
   "source": [
    "def get_candidate_answers(passage, questions):\n",
    "    sentences_in_passage = sent_tokenize(passage)\n",
    "    question_answer_similarity = {}\n",
    "    for question in questions:\n",
    "        for sentence in sentences_in_passage: \n",
    "            cosine_similarity = get_cosine(question, sentence)\n",
    "            if question not in question_answer_similarity:\n",
    "                question_answer_similarity[question] = (sentence, cosine_similarity)\n",
    "            elif question_answer_similarity[question][1] < cosine_similarity:\n",
    "                question_answer_similarity[question] = (sentence, cosine_similarity)\n",
    "    return question_answer_similarity"
   ]
  },
  {
   "cell_type": "code",
   "execution_count": 9,
   "metadata": {
    "collapsed": true,
    "deletable": true,
    "editable": true
   },
   "outputs": [],
   "source": [
    "def __get_candidate_answers__(passage, questions, passage_vector, question_vector):\n",
    "    sentences_in_passage = sent_tokenize(passage)\n",
    "    question_answer_similarity = {}\n",
    "    j = 0\n",
    "    for question in questions:\n",
    "        i = 0\n",
    "        for sentence in sentences_in_passage: \n",
    "            cosine_similarity = abs(np.subtract(passage_vector[i], question_vector[j]))\n",
    "            if question not in question_answer_similarity:\n",
    "                question_answer_similarity[question] = (sentence, cosine_similarity)\n",
    "            elif question_answer_similarity[question][1] > cosine_similarity:\n",
    "                question_answer_similarity[question] = (sentence, cosine_similarity)\n",
    "            i += 1\n",
    "        j += 1\n",
    "    return question_answer_similarity"
   ]
  },
  {
   "cell_type": "code",
   "execution_count": 10,
   "metadata": {
    "collapsed": true,
    "deletable": true,
    "editable": true
   },
   "outputs": [],
   "source": [
    "def chunk_candidate_answers(question_answers_map):\n",
    "    named_entity_chunks = {}\n",
    "    a = []\n",
    "    for question in candidate_answers:\n",
    "        answer = candidate_answers[question][0]\n",
    "        a.append(answer)\n",
    "        tagged_answer = nltk.pos_tag(word_tokenize(answer))\n",
    "        ne_chunks = nltk.ne_chunk(tagged_answer)\n",
    "        grammar = r\"\"\"\n",
    "        NUMBER: {<CD>}\n",
    "        NP:     {<RB><NN>}\n",
    "        \"\"\"\n",
    "        regexp_parser = nltk.RegexpParser(grammar)\n",
    "        ne_chunks = regexp_parser.parse(ne_chunks)\n",
    "        named_entity_chunks[question] = ne_chunks\n",
    "    for i in a:\n",
    "        print(i)\n",
    "    print()\n",
    "    return named_entity_chunks"
   ]
  },
  {
   "cell_type": "code",
   "execution_count": 41,
   "metadata": {
    "collapsed": false,
    "deletable": true,
    "editable": true
   },
   "outputs": [],
   "source": [
    "def extract_answers(chunked_answers):\n",
    "    extracted_answer = []\n",
    "    for question in chunked_answers:\n",
    "        node = chunked_answers[question]\n",
    "        filtered_answer = own_filter(question, wh)\n",
    "        subtrees = list(node.subtrees(filter=lambda t: t.label() in filtered_answer))\n",
    "        answer = []\n",
    "        answer = [' '.join(list(zip(*tree.leaves()))[0]) for tree in subtrees]\n",
    "        extracted_answer.append(answer)\n",
    "    return extracted_answer"
   ]
  },
  {
   "cell_type": "markdown",
   "metadata": {
    "deletable": true,
    "editable": true
   },
   "source": [
    "### Passage 1"
   ]
  },
  {
   "cell_type": "code",
   "execution_count": 42,
   "metadata": {
    "collapsed": true,
    "deletable": true,
    "editable": true
   },
   "outputs": [],
   "source": [
    "passage_1 = \"\"\"Oxygen is a chemical element.\n",
    "Oxygen symbol is O.\n",
    "Atomic number of periodic table for oxygen is 8.\n",
    "Oxygen is a member of the chalcogen group on the periodic table.\n",
    "Oxygen is a highly reactive nonmetal and oxidizing agent.\n",
    "Oxygen readily forms compounds with most elements.\n",
    "Hydrogen is the most abundant element in the universe.\n",
    "Oxygen is the third-most abundant element in the universe.\n",
    "Two atoms of the element bind to form dioxygen.\n",
    "Oxygen is a colorless and odorless diatomic gas.\n",
    "Diatomic oxygen gas constitutes 20.8% of the Earth atmosphere.\n",
    "Oxygen is the most abundant element by mass in the Earth's crust.\n",
    "Oxygen makes up almost half of the crust's mass.\"\"\""
   ]
  },
  {
   "cell_type": "code",
   "execution_count": 43,
   "metadata": {
    "collapsed": true,
    "deletable": true,
    "editable": true
   },
   "outputs": [],
   "source": [
    "questions_1 = [\"What is the most abundant element?\",\n",
    "             \"What is the atomic number of the periodic table for oxygen?\",\n",
    "             \"How many atoms combine to form dioxygen?\",\n",
    "             \"How much oxygen makes up the Earth crust?\",\n",
    "             \"Which gas makes up 20.8% of the Earth's atmosphere?\",\n",
    "             \"What element makes up almost half of the earth's crust by mass?\",\n",
    "             \"What is the atomic number of the element oxygen?\"]"
   ]
  },
  {
   "cell_type": "markdown",
   "metadata": {},
   "source": [
    "### By approach 1"
   ]
  },
  {
   "cell_type": "code",
   "execution_count": 44,
   "metadata": {
    "collapsed": false,
    "deletable": true,
    "editable": true,
    "scrolled": true
   },
   "outputs": [
    {
     "name": "stdout",
     "output_type": "stream",
     "text": [
      "Atomic number of periodic table for oxygen is 8.\n",
      "Oxygen is a colorless and odorless diatomic gas.\n",
      "Oxygen symbol is O.\n",
      "Oxygen is a chemical element.\n",
      "Atomic number of periodic table for oxygen is 8.\n",
      "Atomic number of periodic table for oxygen is 8.\n",
      "Oxygen is a chemical element.\n",
      "\n",
      "What is the most abundant element?\n",
      "['Atomic', '8']\n",
      "What is the atomic number of the periodic table for oxygen?\n",
      "['Oxygen']\n",
      "How many atoms combine to form dioxygen?\n",
      "[]\n",
      "How much oxygen makes up the Earth crust?\n",
      "['8']\n",
      "Which gas makes up 20.8% of the Earth's atmosphere?\n",
      "['Atomic', '8']\n",
      "What element makes up almost half of the earth's crust by mass?\n",
      "['Oxygen']\n",
      "What is the atomic number of the element oxygen?\n",
      "['Oxygen']\n"
     ]
    }
   ],
   "source": [
    "filt_passage, filt_question = remove_stopwords(passage_1, questions_1)\n",
    "passage_vector = create_vector_passage(filt_passage)\n",
    "question_vector = create_vector_question(filt_question)\n",
    "candidate_answers = __get_candidate_answers__(passage_1, questions_1, passage_vector, question_vector)\n",
    "chunk_answer = chunk_candidate_answers(candidate_answers)\n",
    "extracted_answers = extract_answers(chunk_answer)\n",
    "for i in range(len(extracted_answers)):\n",
    "    print(questions_1[i])\n",
    "    print(extracted_answers[i])"
   ]
  },
  {
   "cell_type": "markdown",
   "metadata": {},
   "source": [
    "### By approach 2"
   ]
  },
  {
   "cell_type": "code",
   "execution_count": 45,
   "metadata": {
    "collapsed": false,
    "deletable": true,
    "editable": true
   },
   "outputs": [
    {
     "name": "stdout",
     "output_type": "stream",
     "text": [
      "Oxygen makes up almost half of the crust's mass.\n",
      "Hydrogen is the most abundant element in the universe.\n",
      "Oxygen makes up almost half of the crust's mass.\n",
      "Hydrogen is the most abundant element in the universe.\n",
      "Atomic number of periodic table for oxygen is 8.\n",
      "Two atoms of the element bind to form dioxygen.\n",
      "Diatomic oxygen gas constitutes 20.8% of the Earth atmosphere.\n",
      "\n",
      "What is the most abundant element?\n",
      "['Oxygen']\n",
      "What is the atomic number of the periodic table for oxygen?\n",
      "['Hydrogen']\n",
      "How many atoms combine to form dioxygen?\n",
      "['almost half']\n",
      "How much oxygen makes up the Earth crust?\n",
      "['Two']\n",
      "Which gas makes up 20.8% of the Earth's atmosphere?\n",
      "['Atomic', '8']\n",
      "What element makes up almost half of the earth's crust by mass?\n",
      "['Hydrogen']\n",
      "What is the atomic number of the element oxygen?\n",
      "['Diatomic']\n"
     ]
    }
   ],
   "source": [
    "candidate_answers = get_candidate_answers(passage_1, questions_1)\n",
    "chunk_answer = chunk_candidate_answers(candidate_answers)\n",
    "extracted_answers = extract_answers(chunk_answer)\n",
    "for i in range(len(extracted_answers)):\n",
    "    print(questions_1[i])\n",
    "    print(extracted_answers[i])"
   ]
  },
  {
   "cell_type": "markdown",
   "metadata": {
    "deletable": true,
    "editable": true
   },
   "source": [
    "### Passage 2"
   ]
  },
  {
   "cell_type": "code",
   "execution_count": 36,
   "metadata": {
    "collapsed": true,
    "deletable": true,
    "editable": true
   },
   "outputs": [],
   "source": [
    "passage_3 = \"\"\"Super Bowl 50 was an American football game to determine the champion of the National Football League (NFL) for the 2015 season. \n",
    "The American Football Conference (AFC) champion Denver Broncos defeated the National Football Conference (NFC) champion Carolina Panthers 24–10 to earn their third Super Bowl title. \n",
    "The game was played on February 7, 2016, at Levi's Stadium in the San Francisco Bay Area at Santa Clara, California. \n",
    "As this was the 50th Super Bowl, the league emphasized the \"golden anniversary\" with various gold-themed initiatives, as well as temporarily suspending the tradition of naming each Super Bowl game with Roman numerals (under which the game would have been known as \"Super Bowl L\"), so that the logo could prominently feature the Arabic numerals 50.\"\"\""
   ]
  },
  {
   "cell_type": "code",
   "execution_count": 37,
   "metadata": {
    "collapsed": true,
    "deletable": true,
    "editable": true
   },
   "outputs": [],
   "source": [
    "questions_3 = [\"Which NFL team represented the AFC at Super Bowl 50?\",\n",
    "               \"Where was the game played?\", \n",
    "               \"What was the theme of 50th Super Bowl?\"]"
   ]
  },
  {
   "cell_type": "markdown",
   "metadata": {},
   "source": [
    "### By approach 1"
   ]
  },
  {
   "cell_type": "code",
   "execution_count": 38,
   "metadata": {
    "collapsed": false,
    "deletable": true,
    "editable": true
   },
   "outputs": [
    {
     "name": "stdout",
     "output_type": "stream",
     "text": [
      "Super Bowl 50 was an American football game to determine the champion of the National Football League (NFL) for the 2015 season.\n",
      "As this was the 50th Super Bowl, the league emphasized the \"golden anniversary\" with various gold-themed initiatives, as well as temporarily suspending the tradition of naming each Super Bowl game with Roman numerals (under which the game would have been known as \"Super Bowl L\"), so that the logo could prominently feature the Arabic numerals 50.\n",
      "The game was played on February 7, 2016, at Levi's Stadium in the San Francisco Bay Area at Santa Clara, California.\n",
      "\n",
      "Which NFL team represented the AFC at Super Bowl 50?\n",
      "['American', 'National Football League', 'NFL']\n",
      "Where was the game played?\n",
      "[]\n",
      "What was the theme of 50th Super Bowl?\n",
      "['7', '2016', 'Levi', 'San Francisco Bay Area', 'California']\n"
     ]
    }
   ],
   "source": [
    "filt_passage, filt_question = remove_stopwords(passage_3, questions_3)\n",
    "passage_vector = create_vector_passage(filt_passage)\n",
    "question_vector = create_vector_question(filt_question)\n",
    "candidate_answers = __get_candidate_answers__(passage_3, questions_3, passage_vector, question_vector)\n",
    "chunk_answer = chunk_candidate_answers(candidate_answers)\n",
    "extracted_answers = extract_answers(chunk_answer)\n",
    "for i in range(len(extracted_answers)):\n",
    "    print(questions_3[i])\n",
    "    print(extracted_answers[i])"
   ]
  },
  {
   "cell_type": "markdown",
   "metadata": {},
   "source": [
    "### By approach 2"
   ]
  },
  {
   "cell_type": "code",
   "execution_count": 39,
   "metadata": {
    "collapsed": false,
    "deletable": true,
    "editable": true
   },
   "outputs": [
    {
     "name": "stdout",
     "output_type": "stream",
     "text": [
      "Super Bowl 50 was an American football game to determine the champion of the National Football League (NFL) for the 2015 season.\n",
      "Super Bowl 50 was an American football game to determine the champion of the National Football League (NFL) for the 2015 season.\n",
      "As this was the 50th Super Bowl, the league emphasized the \"golden anniversary\" with various gold-themed initiatives, as well as temporarily suspending the tradition of naming each Super Bowl game with Roman numerals (under which the game would have been known as \"Super Bowl L\"), so that the logo could prominently feature the Arabic numerals 50.\n",
      "\n",
      "Which NFL team represented the AFC at Super Bowl 50?\n",
      "['American', 'National Football League', 'NFL']\n",
      "Where was the game played?\n",
      "[]\n",
      "What was the theme of 50th Super Bowl?\n",
      "['Super Bowl', 'Roman', 'Super Bowl', 'Arabic', '50']\n"
     ]
    }
   ],
   "source": [
    "candidate_answers = get_candidate_answers(passage_3, questions_3)\n",
    "chunk_answer = chunk_candidate_answers(candidate_answers)\n",
    "extracted_answers = extract_answers(chunk_answer)\n",
    "for i in range(len(extracted_answers)):\n",
    "    print(questions_3[i])\n",
    "    print(extracted_answers[i])  #Denver Broncos # Santa Clara, California # \"golden anniversary\""
   ]
  },
  {
   "cell_type": "markdown",
   "metadata": {
    "deletable": true,
    "editable": true
   },
   "source": [
    "### Paasage 3"
   ]
  },
  {
   "cell_type": "code",
   "execution_count": 40,
   "metadata": {
    "collapsed": true,
    "deletable": true,
    "editable": true
   },
   "outputs": [],
   "source": [
    "passage_4 = \"\"\"Steam engines are external combustion engines, where the working fluid is separate from the combustion products. \n",
    "Non-combustion heat sources such as solar power, nuclear power or geothermal energy may be used. \n",
    "The ideal thermodynamic cycle used to analyze this process is called the Rankine cycle.\n",
    "In the cycle, water is heated and transforms into steam within a boiler operating at a high pressure. \n",
    "When expanded through pistons or turbines, mechanical work is done. \n",
    "The reduced-pressure steam is then condensed and pumped back into the boiler.\"\"\""
   ]
  },
  {
   "cell_type": "code",
   "execution_count": 26,
   "metadata": {
    "collapsed": true,
    "deletable": true,
    "editable": true
   },
   "outputs": [],
   "source": [
    "questions_4 = [\"What is a non-combustion heat source, along with geothermal and nuclear ?\",\n",
    "               \"What types of engines are steam engines?\"]"
   ]
  },
  {
   "cell_type": "markdown",
   "metadata": {},
   "source": [
    "### By approach 1"
   ]
  },
  {
   "cell_type": "code",
   "execution_count": 27,
   "metadata": {
    "collapsed": false,
    "deletable": true,
    "editable": true
   },
   "outputs": [
    {
     "name": "stdout",
     "output_type": "stream",
     "text": [
      "Steam engines are external combustion engines, where the working fluid is separate from the combustion products.\n",
      "Steam engines are external combustion engines, where the working fluid is separate from the combustion products.\n",
      "\n",
      "What is a non-combustion heat source, along with geothermal and nuclear ?\n",
      "['Steam']\n",
      "What types of engines are steam engines?\n",
      "['Steam']\n"
     ]
    }
   ],
   "source": [
    "filt_passage, filt_question = remove_stopwords(passage_4, questions_4)\n",
    "passage_vector = create_vector_passage(filt_passage)\n",
    "question_vector = create_vector_question(filt_question)\n",
    "candidate_answers = __get_candidate_answers__(passage_4, questions_4, passage_vector, question_vector)\n",
    "chunk_answer = chunk_candidate_answers(candidate_answers)\n",
    "extracted_answers = extract_answers(chunk_answer)\n",
    "for i in range(len(extracted_answers)):\n",
    "    print(questions_4[i])\n",
    "    print(extracted_answers[i])"
   ]
  },
  {
   "cell_type": "markdown",
   "metadata": {},
   "source": [
    "### By approach 2"
   ]
  },
  {
   "cell_type": "code",
   "execution_count": 28,
   "metadata": {
    "collapsed": false,
    "deletable": true,
    "editable": true
   },
   "outputs": [
    {
     "name": "stdout",
     "output_type": "stream",
     "text": [
      "In the cycle, water is heated and transforms into steam within a boiler operating at a high pressure.\n",
      "Steam engines are external combustion engines, where the working fluid is separate from the combustion products.\n",
      "\n",
      "What is a non-combustion heat source, along with geothermal and nuclear ?\n",
      "[]\n",
      "What types of engines are steam engines?\n",
      "['Steam']\n"
     ]
    }
   ],
   "source": [
    "candidate_answers = get_candidate_answers(passage_4, questions_4)\n",
    "chunk_answer = chunk_candidate_answers(candidate_answers)\n",
    "extracted_answers = extract_answers(chunk_answer)\n",
    "for i in range(len(extracted_answers)):\n",
    "    print(questions_4[i])\n",
    "    print(extracted_answers[i])"
   ]
  },
  {
   "cell_type": "code",
   "execution_count": null,
   "metadata": {
    "collapsed": true,
    "deletable": true,
    "editable": true
   },
   "outputs": [],
   "source": []
  }
 ],
 "metadata": {
  "kernelspec": {
   "display_name": "Python 3",
   "language": "python",
   "name": "python3"
  },
  "language_info": {
   "codemirror_mode": {
    "name": "ipython",
    "version": 3
   },
   "file_extension": ".py",
   "mimetype": "text/x-python",
   "name": "python",
   "nbconvert_exporter": "python",
   "pygments_lexer": "ipython3",
   "version": "3.5.2"
  }
 },
 "nbformat": 4,
 "nbformat_minor": 2
}
