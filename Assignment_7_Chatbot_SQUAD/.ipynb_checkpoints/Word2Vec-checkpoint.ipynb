{
 "cells": [
  {
   "cell_type": "code",
   "execution_count": 2,
   "metadata": {
    "collapsed": true,
    "deletable": true,
    "editable": true
   },
   "outputs": [],
   "source": [
    "import nltk\n",
    "from nltk.tokenize import sent_tokenize, word_tokenize\n",
    "import re, math\n",
    "from collections import Counter\n",
    "from gensim.models import Word2Vec\n",
    "from gensim.models import Doc2Vec\n",
    "import numpy"
   ]
  },
  {
   "cell_type": "code",
   "execution_count": 3,
   "metadata": {
    "collapsed": true,
    "deletable": true,
    "editable": true
   },
   "outputs": [],
   "source": [
    "passage = \"\"\"Oxygen is a chemical element. \n",
    "Oxygen symbol is O.\n",
    "Oxygen atomic number is 8.\n",
    "Oxygen is a member of the chalcogen group on the periodic table.\n",
    "Oxygen is a highly reactive nonmetal and oxidizing agent.\n",
    "Oxygen readily forms compounds with most elements.\n",
    "Oxygen is the third-most abundant element in the universe.\n",
    "Two atoms of the element bind to form dioxygen.\n",
    "Oxygen is a colorless and odorless diatomic gas.\n",
    "Diatomic oxygen gas constitutes 20.8% of the Earth's atmosphere.\n",
    "A global downward trend is seen because of fossil-fuel burning.\n",
    "Oxygen is the most abundant element by mass in the Earth's crust.\n",
    "Oxygen makes up almost half of the crust's mass.\n",
    "\"\"\""
   ]
  },
  {
   "cell_type": "code",
   "execution_count": 4,
   "metadata": {
    "collapsed": true,
    "deletable": true,
    "editable": true
   },
   "outputs": [],
   "source": [
    "questions = [\"What is the atomic number of the periodic table for oxygen?\"\n",
    "             ,\"What is the most abundant element?\"\n",
    "             ,\"How many atoms combine to form dioxygen?\"]"
   ]
  },
  {
   "cell_type": "code",
   "execution_count": 5,
   "metadata": {
    "collapsed": true,
    "deletable": true,
    "editable": true
   },
   "outputs": [],
   "source": [
    "sent_passage = [word_tokenize(sent) for sent in sent_tokenize(passage)]"
   ]
  },
  {
   "cell_type": "code",
   "execution_count": 6,
   "metadata": {
    "collapsed": true,
    "deletable": true,
    "editable": true
   },
   "outputs": [],
   "source": [
    "model = Word2Vec(sentences=sent_passage, min_count=1, window=3)"
   ]
  },
  {
   "cell_type": "code",
   "execution_count": 7,
   "metadata": {
    "collapsed": false,
    "deletable": true,
    "editable": true
   },
   "outputs": [
    {
     "data": {
      "text/plain": [
       "{'%': <gensim.models.keyedvectors.Vocab at 0x7fdf7d6f09b0>,\n",
       " \"'s\": <gensim.models.keyedvectors.Vocab at 0x7fdf7d6771d0>,\n",
       " '.': <gensim.models.keyedvectors.Vocab at 0x7fdf7d6f0a90>,\n",
       " '20.8': <gensim.models.keyedvectors.Vocab at 0x7fdf7d6f04e0>,\n",
       " '8': <gensim.models.keyedvectors.Vocab at 0x7fdf7d6f0c18>,\n",
       " 'A': <gensim.models.keyedvectors.Vocab at 0x7fdf7d677198>,\n",
       " 'Diatomic': <gensim.models.keyedvectors.Vocab at 0x7fdf7d6f05f8>,\n",
       " 'Earth': <gensim.models.keyedvectors.Vocab at 0x7fdf7d6f0e48>,\n",
       " 'O': <gensim.models.keyedvectors.Vocab at 0x7fdf7d6f0550>,\n",
       " 'Oxygen': <gensim.models.keyedvectors.Vocab at 0x7fdf7d6f0e10>,\n",
       " 'Two': <gensim.models.keyedvectors.Vocab at 0x7fdf7d6f0a58>,\n",
       " 'a': <gensim.models.keyedvectors.Vocab at 0x7fdf7d6f06d8>,\n",
       " 'abundant': <gensim.models.keyedvectors.Vocab at 0x7fdf7d6f0518>,\n",
       " 'agent': <gensim.models.keyedvectors.Vocab at 0x7fdf7d6f0b38>,\n",
       " 'almost': <gensim.models.keyedvectors.Vocab at 0x7fdf7d677208>,\n",
       " 'and': <gensim.models.keyedvectors.Vocab at 0x7fdf7d677160>,\n",
       " 'atmosphere': <gensim.models.keyedvectors.Vocab at 0x7fdf7d6f0978>,\n",
       " 'atomic': <gensim.models.keyedvectors.Vocab at 0x7fdf7d6f09e8>,\n",
       " 'atoms': <gensim.models.keyedvectors.Vocab at 0x7fdf7d6f0588>,\n",
       " 'because': <gensim.models.keyedvectors.Vocab at 0x7fdf7d6f0fd0>,\n",
       " 'bind': <gensim.models.keyedvectors.Vocab at 0x7fdf7d6772e8>,\n",
       " 'burning': <gensim.models.keyedvectors.Vocab at 0x7fdf7d677080>,\n",
       " 'by': <gensim.models.keyedvectors.Vocab at 0x7fdf7d6770b8>,\n",
       " 'chalcogen': <gensim.models.keyedvectors.Vocab at 0x7fdf7d6f0f60>,\n",
       " 'chemical': <gensim.models.keyedvectors.Vocab at 0x7fdf7d6f0908>,\n",
       " 'colorless': <gensim.models.keyedvectors.Vocab at 0x7fdf7d6f0eb8>,\n",
       " 'compounds': <gensim.models.keyedvectors.Vocab at 0x7fdf7d6f0898>,\n",
       " 'constitutes': <gensim.models.keyedvectors.Vocab at 0x7fdf7d6f0cc0>,\n",
       " 'crust': <gensim.models.keyedvectors.Vocab at 0x7fdf7d6f0b00>,\n",
       " 'diatomic': <gensim.models.keyedvectors.Vocab at 0x7fdf7d6f0780>,\n",
       " 'dioxygen': <gensim.models.keyedvectors.Vocab at 0x7fdf7d7b6390>,\n",
       " 'downward': <gensim.models.keyedvectors.Vocab at 0x7fdf7d6f0668>,\n",
       " 'element': <gensim.models.keyedvectors.Vocab at 0x7fdf7d6f0710>,\n",
       " 'elements': <gensim.models.keyedvectors.Vocab at 0x7fdf7d6f0828>,\n",
       " 'form': <gensim.models.keyedvectors.Vocab at 0x7fdf7d7b64a8>,\n",
       " 'forms': <gensim.models.keyedvectors.Vocab at 0x7fdf7d6772b0>,\n",
       " 'fossil-fuel': <gensim.models.keyedvectors.Vocab at 0x7fdf7d6f0b70>,\n",
       " 'gas': <gensim.models.keyedvectors.Vocab at 0x7fdf7d6f0d68>,\n",
       " 'global': <gensim.models.keyedvectors.Vocab at 0x7fdf7d6f0f98>,\n",
       " 'group': <gensim.models.keyedvectors.Vocab at 0x7fdf7d6f0cf8>,\n",
       " 'half': <gensim.models.keyedvectors.Vocab at 0x7fdf7d6f0ba8>,\n",
       " 'highly': <gensim.models.keyedvectors.Vocab at 0x7fdf7d6f0940>,\n",
       " 'in': <gensim.models.keyedvectors.Vocab at 0x7fdf7d6f0d30>,\n",
       " 'is': <gensim.models.keyedvectors.Vocab at 0x7fdf7d677278>,\n",
       " 'makes': <gensim.models.keyedvectors.Vocab at 0x7fdf7d677048>,\n",
       " 'mass': <gensim.models.keyedvectors.Vocab at 0x7fdf7d677240>,\n",
       " 'member': <gensim.models.keyedvectors.Vocab at 0x7fdf7d6f0a20>,\n",
       " 'most': <gensim.models.keyedvectors.Vocab at 0x7fdf7d6f0ac8>,\n",
       " 'nonmetal': <gensim.models.keyedvectors.Vocab at 0x7fdf7d6f0860>,\n",
       " 'number': <gensim.models.keyedvectors.Vocab at 0x7fdf7d6f0748>,\n",
       " 'odorless': <gensim.models.keyedvectors.Vocab at 0x7fdf7d6f0f28>,\n",
       " 'of': <gensim.models.keyedvectors.Vocab at 0x7fdf7d6f0630>,\n",
       " 'on': <gensim.models.keyedvectors.Vocab at 0x7fdf7d677128>,\n",
       " 'oxidizing': <gensim.models.keyedvectors.Vocab at 0x7fdf7d6f04a8>,\n",
       " 'oxygen': <gensim.models.keyedvectors.Vocab at 0x7fdf7d6f05c0>,\n",
       " 'periodic': <gensim.models.keyedvectors.Vocab at 0x7fdf7d6f07b8>,\n",
       " 'reactive': <gensim.models.keyedvectors.Vocab at 0x7fdf7d6f07f0>,\n",
       " 'readily': <gensim.models.keyedvectors.Vocab at 0x7fdf7d6f08d0>,\n",
       " 'seen': <gensim.models.keyedvectors.Vocab at 0x7fdf7d6f0e80>,\n",
       " 'symbol': <gensim.models.keyedvectors.Vocab at 0x7fdf7d6f0dd8>,\n",
       " 'table': <gensim.models.keyedvectors.Vocab at 0x7fdf7d6f06a0>,\n",
       " 'the': <gensim.models.keyedvectors.Vocab at 0x7fdf7d677320>,\n",
       " 'third-most': <gensim.models.keyedvectors.Vocab at 0x7fdf7d6f0c88>,\n",
       " 'to': <gensim.models.keyedvectors.Vocab at 0x7fdf7d6f0c50>,\n",
       " 'trend': <gensim.models.keyedvectors.Vocab at 0x7fdf7d6f0da0>,\n",
       " 'universe': <gensim.models.keyedvectors.Vocab at 0x7fdf7d6f0be0>,\n",
       " 'up': <gensim.models.keyedvectors.Vocab at 0x7fdf7d6f0ef0>,\n",
       " 'with': <gensim.models.keyedvectors.Vocab at 0x7fdf7d6770f0>}"
      ]
     },
     "execution_count": 7,
     "metadata": {},
     "output_type": "execute_result"
    }
   ],
   "source": [
    "model.wv.vocab"
   ]
  },
  {
   "cell_type": "code",
   "execution_count": 8,
   "metadata": {
    "collapsed": false,
    "deletable": true,
    "editable": true
   },
   "outputs": [
    {
     "data": {
      "text/plain": [
       "[('global', 0.25778234004974365),\n",
       " ('Earth', 0.18812337517738342),\n",
       " ('atmosphere', 0.1853766143321991),\n",
       " ('highly', 0.18393824994564056),\n",
       " ('A', 0.17514164745807648),\n",
       " ('makes', 0.16676047444343567),\n",
       " ('because', 0.15640084445476532),\n",
       " ('group', 0.1492067575454712),\n",
       " ('oxidizing', 0.13370396196842194),\n",
       " ('seen', 0.11900101602077484)]"
      ]
     },
     "execution_count": 8,
     "metadata": {},
     "output_type": "execute_result"
    }
   ],
   "source": [
    "model.most_similar(positive=['atomic', 'number'], negative=['Oxygen', 'is'])"
   ]
  },
  {
   "cell_type": "code",
   "execution_count": 9,
   "metadata": {
    "collapsed": false,
    "deletable": true,
    "editable": true
   },
   "outputs": [
    {
     "data": {
      "text/plain": [
       "'8'"
      ]
     },
     "execution_count": 9,
     "metadata": {},
     "output_type": "execute_result"
    }
   ],
   "source": [
    "model.doesnt_match(['Oxygen', '8', 'atomic', 'universe'])"
   ]
  },
  {
   "cell_type": "code",
   "execution_count": 10,
   "metadata": {
    "collapsed": false,
    "deletable": true,
    "editable": true
   },
   "outputs": [],
   "source": [
    "sent_passage.extend([word_tokenize(question) for question in questions])"
   ]
  },
  {
   "cell_type": "code",
   "execution_count": 11,
   "metadata": {
    "collapsed": false,
    "deletable": true,
    "editable": true
   },
   "outputs": [
    {
     "data": {
      "text/plain": [
       "[['Oxygen', 'is', 'a', 'chemical', 'element', '.'],\n",
       " ['Oxygen', 'symbol', 'is', 'O', '.'],\n",
       " ['Oxygen', 'atomic', 'number', 'is', '8', '.'],\n",
       " ['Oxygen',\n",
       "  'is',\n",
       "  'a',\n",
       "  'member',\n",
       "  'of',\n",
       "  'the',\n",
       "  'chalcogen',\n",
       "  'group',\n",
       "  'on',\n",
       "  'the',\n",
       "  'periodic',\n",
       "  'table',\n",
       "  '.'],\n",
       " ['Oxygen',\n",
       "  'is',\n",
       "  'a',\n",
       "  'highly',\n",
       "  'reactive',\n",
       "  'nonmetal',\n",
       "  'and',\n",
       "  'oxidizing',\n",
       "  'agent',\n",
       "  '.'],\n",
       " ['Oxygen', 'readily', 'forms', 'compounds', 'with', 'most', 'elements', '.'],\n",
       " ['Oxygen',\n",
       "  'is',\n",
       "  'the',\n",
       "  'third-most',\n",
       "  'abundant',\n",
       "  'element',\n",
       "  'in',\n",
       "  'the',\n",
       "  'universe',\n",
       "  '.'],\n",
       " ['Two',\n",
       "  'atoms',\n",
       "  'of',\n",
       "  'the',\n",
       "  'element',\n",
       "  'bind',\n",
       "  'to',\n",
       "  'form',\n",
       "  'dioxygen',\n",
       "  '.'],\n",
       " ['Oxygen', 'is', 'a', 'colorless', 'and', 'odorless', 'diatomic', 'gas', '.'],\n",
       " ['Diatomic',\n",
       "  'oxygen',\n",
       "  'gas',\n",
       "  'constitutes',\n",
       "  '20.8',\n",
       "  '%',\n",
       "  'of',\n",
       "  'the',\n",
       "  'Earth',\n",
       "  \"'s\",\n",
       "  'atmosphere',\n",
       "  '.'],\n",
       " ['A',\n",
       "  'global',\n",
       "  'downward',\n",
       "  'trend',\n",
       "  'is',\n",
       "  'seen',\n",
       "  'because',\n",
       "  'of',\n",
       "  'fossil-fuel',\n",
       "  'burning',\n",
       "  '.'],\n",
       " ['Oxygen',\n",
       "  'is',\n",
       "  'the',\n",
       "  'most',\n",
       "  'abundant',\n",
       "  'element',\n",
       "  'by',\n",
       "  'mass',\n",
       "  'in',\n",
       "  'the',\n",
       "  'Earth',\n",
       "  \"'s\",\n",
       "  'crust',\n",
       "  '.'],\n",
       " ['Oxygen',\n",
       "  'makes',\n",
       "  'up',\n",
       "  'almost',\n",
       "  'half',\n",
       "  'of',\n",
       "  'the',\n",
       "  'crust',\n",
       "  \"'s\",\n",
       "  'mass',\n",
       "  '.'],\n",
       " ['What',\n",
       "  'is',\n",
       "  'the',\n",
       "  'atomic',\n",
       "  'number',\n",
       "  'of',\n",
       "  'the',\n",
       "  'periodic',\n",
       "  'table',\n",
       "  'for',\n",
       "  'oxygen',\n",
       "  '?'],\n",
       " ['What', 'is', 'the', 'most', 'abundant', 'element', '?'],\n",
       " ['How', 'many', 'atoms', 'combine', 'to', 'form', 'dioxygen', '?']]"
      ]
     },
     "execution_count": 11,
     "metadata": {},
     "output_type": "execute_result"
    }
   ],
   "source": [
    "sent_passage"
   ]
  },
  {
   "cell_type": "code",
   "execution_count": 12,
   "metadata": {
    "collapsed": true,
    "deletable": true,
    "editable": true
   },
   "outputs": [],
   "source": [
    "import gensim"
   ]
  },
  {
   "cell_type": "code",
   "execution_count": 13,
   "metadata": {
    "collapsed": false,
    "deletable": true,
    "editable": true
   },
   "outputs": [],
   "source": [
    "tagged_words = [nltk.pos_tag(word) for word in sent_passage]"
   ]
  },
  {
   "cell_type": "code",
   "execution_count": 14,
   "metadata": {
    "collapsed": false,
    "deletable": true,
    "editable": true
   },
   "outputs": [],
   "source": [
    "tagged_wordlist = [word for sentence in tagged_words for word in sentence]"
   ]
  },
  {
   "cell_type": "code",
   "execution_count": 15,
   "metadata": {
    "collapsed": false,
    "deletable": true,
    "editable": true
   },
   "outputs": [],
   "source": [
    "words, tags = zip(*tagged_wordlist)"
   ]
  },
  {
   "cell_type": "code",
   "execution_count": 16,
   "metadata": {
    "collapsed": false,
    "deletable": true,
    "editable": true
   },
   "outputs": [],
   "source": [
    "documents = gensim.models.doc2vec.TaggedDocument(list(words), list(tags))"
   ]
  },
  {
   "cell_type": "code",
   "execution_count": 17,
   "metadata": {
    "collapsed": false,
    "deletable": true,
    "editable": true
   },
   "outputs": [],
   "source": [
    "doc2vec_model = Doc2Vec(documents=[documents], min_count=1)"
   ]
  },
  {
   "cell_type": "code",
   "execution_count": 18,
   "metadata": {
    "collapsed": false,
    "deletable": true,
    "editable": true
   },
   "outputs": [
    {
     "data": {
      "text/plain": [
       "74"
      ]
     },
     "execution_count": 18,
     "metadata": {},
     "output_type": "execute_result"
    }
   ],
   "source": [
    "len(doc2vec_model.wv.vocab)"
   ]
  },
  {
   "cell_type": "code",
   "execution_count": 19,
   "metadata": {
    "collapsed": true,
    "deletable": true,
    "editable": true
   },
   "outputs": [],
   "source": [
    "def create_vector(question):\n",
    "    docvec = [0] * 100\n",
    "    for word in word_tokenize(question):\n",
    "        docvec += doc2vec_model[word]\n",
    "    return docvec / len(word_tokenize(question)) "
   ]
  },
  {
   "cell_type": "code",
   "execution_count": 20,
   "metadata": {
    "collapsed": false,
    "deletable": true,
    "editable": true
   },
   "outputs": [],
   "source": [
    "question_vec = create_vector(questions[0])"
   ]
  },
  {
   "cell_type": "code",
   "execution_count": 24,
   "metadata": {
    "collapsed": false,
    "deletable": true,
    "editable": true
   },
   "outputs": [],
   "source": [
    "sent_vec = create_vector(sent_tokenize(passage)[0])"
   ]
  },
  {
   "cell_type": "code",
   "execution_count": 25,
   "metadata": {
    "collapsed": false,
    "deletable": true,
    "editable": true
   },
   "outputs": [
    {
     "ename": "KeyError",
     "evalue": "\"word '-0.000180990469138' not in vocabulary\"",
     "output_type": "error",
     "traceback": [
      "\u001b[0;31m---------------------------------------------------------------------------\u001b[0m",
      "\u001b[0;31mKeyError\u001b[0m                                  Traceback (most recent call last)",
      "\u001b[0;32m<ipython-input-25-e3453b8e86fe>\u001b[0m in \u001b[0;36m<module>\u001b[0;34m()\u001b[0m\n\u001b[0;32m----> 1\u001b[0;31m \u001b[0mdoc2vec_model\u001b[0m\u001b[0;34m.\u001b[0m\u001b[0msimilarity\u001b[0m\u001b[0;34m(\u001b[0m\u001b[0mquestion_vec\u001b[0m\u001b[0;34m,\u001b[0m \u001b[0msent_vec\u001b[0m\u001b[0;34m)\u001b[0m\u001b[0;34m\u001b[0m\u001b[0m\n\u001b[0m",
      "\u001b[0;32m/home/user/dummy/lib/python3.5/site-packages/gensim/models/word2vec.py\u001b[0m in \u001b[0;36msimilarity\u001b[0;34m(self, w1, w2)\u001b[0m\n\u001b[1;32m   1282\u001b[0m         \"\"\"\n\u001b[1;32m   1283\u001b[0m \u001b[0;34m\u001b[0m\u001b[0m\n\u001b[0;32m-> 1284\u001b[0;31m         \u001b[0;32mreturn\u001b[0m \u001b[0mself\u001b[0m\u001b[0;34m.\u001b[0m\u001b[0mwv\u001b[0m\u001b[0;34m.\u001b[0m\u001b[0msimilarity\u001b[0m\u001b[0;34m(\u001b[0m\u001b[0mw1\u001b[0m\u001b[0;34m,\u001b[0m \u001b[0mw2\u001b[0m\u001b[0;34m)\u001b[0m\u001b[0;34m\u001b[0m\u001b[0m\n\u001b[0m\u001b[1;32m   1285\u001b[0m \u001b[0;34m\u001b[0m\u001b[0m\n\u001b[1;32m   1286\u001b[0m     \u001b[0;32mdef\u001b[0m \u001b[0mn_similarity\u001b[0m\u001b[0;34m(\u001b[0m\u001b[0mself\u001b[0m\u001b[0;34m,\u001b[0m \u001b[0mws1\u001b[0m\u001b[0;34m,\u001b[0m \u001b[0mws2\u001b[0m\u001b[0;34m)\u001b[0m\u001b[0;34m:\u001b[0m\u001b[0;34m\u001b[0m\u001b[0m\n",
      "\u001b[0;32m/home/user/dummy/lib/python3.5/site-packages/gensim/models/keyedvectors.py\u001b[0m in \u001b[0;36msimilarity\u001b[0;34m(self, w1, w2)\u001b[0m\n\u001b[1;32m    594\u001b[0m \u001b[0;34m\u001b[0m\u001b[0m\n\u001b[1;32m    595\u001b[0m         \"\"\"\n\u001b[0;32m--> 596\u001b[0;31m         \u001b[0;32mreturn\u001b[0m \u001b[0mdot\u001b[0m\u001b[0;34m(\u001b[0m\u001b[0mmatutils\u001b[0m\u001b[0;34m.\u001b[0m\u001b[0munitvec\u001b[0m\u001b[0;34m(\u001b[0m\u001b[0mself\u001b[0m\u001b[0;34m[\u001b[0m\u001b[0mw1\u001b[0m\u001b[0;34m]\u001b[0m\u001b[0;34m)\u001b[0m\u001b[0;34m,\u001b[0m \u001b[0mmatutils\u001b[0m\u001b[0;34m.\u001b[0m\u001b[0munitvec\u001b[0m\u001b[0;34m(\u001b[0m\u001b[0mself\u001b[0m\u001b[0;34m[\u001b[0m\u001b[0mw2\u001b[0m\u001b[0;34m]\u001b[0m\u001b[0;34m)\u001b[0m\u001b[0;34m)\u001b[0m\u001b[0;34m\u001b[0m\u001b[0m\n\u001b[0m\u001b[1;32m    597\u001b[0m \u001b[0;34m\u001b[0m\u001b[0m\n\u001b[1;32m    598\u001b[0m     \u001b[0;32mdef\u001b[0m \u001b[0mn_similarity\u001b[0m\u001b[0;34m(\u001b[0m\u001b[0mself\u001b[0m\u001b[0;34m,\u001b[0m \u001b[0mws1\u001b[0m\u001b[0;34m,\u001b[0m \u001b[0mws2\u001b[0m\u001b[0;34m)\u001b[0m\u001b[0;34m:\u001b[0m\u001b[0;34m\u001b[0m\u001b[0m\n",
      "\u001b[0;32m/home/user/dummy/lib/python3.5/site-packages/gensim/models/keyedvectors.py\u001b[0m in \u001b[0;36m__getitem__\u001b[0;34m(self, words)\u001b[0m\n\u001b[1;32m    576\u001b[0m             \u001b[0;32mreturn\u001b[0m \u001b[0mself\u001b[0m\u001b[0;34m.\u001b[0m\u001b[0mword_vec\u001b[0m\u001b[0;34m(\u001b[0m\u001b[0mwords\u001b[0m\u001b[0;34m)\u001b[0m\u001b[0;34m\u001b[0m\u001b[0m\n\u001b[1;32m    577\u001b[0m \u001b[0;34m\u001b[0m\u001b[0m\n\u001b[0;32m--> 578\u001b[0;31m         \u001b[0;32mreturn\u001b[0m \u001b[0mvstack\u001b[0m\u001b[0;34m(\u001b[0m\u001b[0;34m[\u001b[0m\u001b[0mself\u001b[0m\u001b[0;34m.\u001b[0m\u001b[0mword_vec\u001b[0m\u001b[0;34m(\u001b[0m\u001b[0mword\u001b[0m\u001b[0;34m)\u001b[0m \u001b[0;32mfor\u001b[0m \u001b[0mword\u001b[0m \u001b[0;32min\u001b[0m \u001b[0mwords\u001b[0m\u001b[0;34m]\u001b[0m\u001b[0;34m)\u001b[0m\u001b[0;34m\u001b[0m\u001b[0m\n\u001b[0m\u001b[1;32m    579\u001b[0m \u001b[0;34m\u001b[0m\u001b[0m\n\u001b[1;32m    580\u001b[0m     \u001b[0;32mdef\u001b[0m \u001b[0m__contains__\u001b[0m\u001b[0;34m(\u001b[0m\u001b[0mself\u001b[0m\u001b[0;34m,\u001b[0m \u001b[0mword\u001b[0m\u001b[0;34m)\u001b[0m\u001b[0;34m:\u001b[0m\u001b[0;34m\u001b[0m\u001b[0m\n",
      "\u001b[0;32m/home/user/dummy/lib/python3.5/site-packages/gensim/models/keyedvectors.py\u001b[0m in \u001b[0;36m<listcomp>\u001b[0;34m(.0)\u001b[0m\n\u001b[1;32m    576\u001b[0m             \u001b[0;32mreturn\u001b[0m \u001b[0mself\u001b[0m\u001b[0;34m.\u001b[0m\u001b[0mword_vec\u001b[0m\u001b[0;34m(\u001b[0m\u001b[0mwords\u001b[0m\u001b[0;34m)\u001b[0m\u001b[0;34m\u001b[0m\u001b[0m\n\u001b[1;32m    577\u001b[0m \u001b[0;34m\u001b[0m\u001b[0m\n\u001b[0;32m--> 578\u001b[0;31m         \u001b[0;32mreturn\u001b[0m \u001b[0mvstack\u001b[0m\u001b[0;34m(\u001b[0m\u001b[0;34m[\u001b[0m\u001b[0mself\u001b[0m\u001b[0;34m.\u001b[0m\u001b[0mword_vec\u001b[0m\u001b[0;34m(\u001b[0m\u001b[0mword\u001b[0m\u001b[0;34m)\u001b[0m \u001b[0;32mfor\u001b[0m \u001b[0mword\u001b[0m \u001b[0;32min\u001b[0m \u001b[0mwords\u001b[0m\u001b[0;34m]\u001b[0m\u001b[0;34m)\u001b[0m\u001b[0;34m\u001b[0m\u001b[0m\n\u001b[0m\u001b[1;32m    579\u001b[0m \u001b[0;34m\u001b[0m\u001b[0m\n\u001b[1;32m    580\u001b[0m     \u001b[0;32mdef\u001b[0m \u001b[0m__contains__\u001b[0m\u001b[0;34m(\u001b[0m\u001b[0mself\u001b[0m\u001b[0;34m,\u001b[0m \u001b[0mword\u001b[0m\u001b[0;34m)\u001b[0m\u001b[0;34m:\u001b[0m\u001b[0;34m\u001b[0m\u001b[0m\n",
      "\u001b[0;32m/home/user/dummy/lib/python3.5/site-packages/gensim/models/keyedvectors.py\u001b[0m in \u001b[0;36mword_vec\u001b[0;34m(self, word, use_norm)\u001b[0m\n\u001b[1;32m    273\u001b[0m                 \u001b[0;32mreturn\u001b[0m \u001b[0mself\u001b[0m\u001b[0;34m.\u001b[0m\u001b[0msyn0\u001b[0m\u001b[0;34m[\u001b[0m\u001b[0mself\u001b[0m\u001b[0;34m.\u001b[0m\u001b[0mvocab\u001b[0m\u001b[0;34m[\u001b[0m\u001b[0mword\u001b[0m\u001b[0;34m]\u001b[0m\u001b[0;34m.\u001b[0m\u001b[0mindex\u001b[0m\u001b[0;34m]\u001b[0m\u001b[0;34m\u001b[0m\u001b[0m\n\u001b[1;32m    274\u001b[0m         \u001b[0;32melse\u001b[0m\u001b[0;34m:\u001b[0m\u001b[0;34m\u001b[0m\u001b[0m\n\u001b[0;32m--> 275\u001b[0;31m             \u001b[0;32mraise\u001b[0m \u001b[0mKeyError\u001b[0m\u001b[0;34m(\u001b[0m\u001b[0;34m\"word '%s' not in vocabulary\"\u001b[0m \u001b[0;34m%\u001b[0m \u001b[0mword\u001b[0m\u001b[0;34m)\u001b[0m\u001b[0;34m\u001b[0m\u001b[0m\n\u001b[0m\u001b[1;32m    276\u001b[0m \u001b[0;34m\u001b[0m\u001b[0m\n\u001b[1;32m    277\u001b[0m     \u001b[0;32mdef\u001b[0m \u001b[0mmost_similar\u001b[0m\u001b[0;34m(\u001b[0m\u001b[0mself\u001b[0m\u001b[0;34m,\u001b[0m \u001b[0mpositive\u001b[0m\u001b[0;34m=\u001b[0m\u001b[0;34m[\u001b[0m\u001b[0;34m]\u001b[0m\u001b[0;34m,\u001b[0m \u001b[0mnegative\u001b[0m\u001b[0;34m=\u001b[0m\u001b[0;34m[\u001b[0m\u001b[0;34m]\u001b[0m\u001b[0;34m,\u001b[0m \u001b[0mtopn\u001b[0m\u001b[0;34m=\u001b[0m\u001b[0;36m10\u001b[0m\u001b[0;34m,\u001b[0m \u001b[0mrestrict_vocab\u001b[0m\u001b[0;34m=\u001b[0m\u001b[0;32mNone\u001b[0m\u001b[0;34m,\u001b[0m \u001b[0mindexer\u001b[0m\u001b[0;34m=\u001b[0m\u001b[0;32mNone\u001b[0m\u001b[0;34m)\u001b[0m\u001b[0;34m:\u001b[0m\u001b[0;34m\u001b[0m\u001b[0m\n",
      "\u001b[0;31mKeyError\u001b[0m: \"word '-0.000180990469138' not in vocabulary\""
     ]
    }
   ],
   "source": [
    "doc2vec_model.similarity(question_vec, sent_vec)"
   ]
  }
 ],
 "metadata": {
  "kernelspec": {
   "display_name": "Python 3",
   "language": "python",
   "name": "python3"
  },
  "language_info": {
   "codemirror_mode": {
    "name": "ipython",
    "version": 3
   },
   "file_extension": ".py",
   "mimetype": "text/x-python",
   "name": "python",
   "nbconvert_exporter": "python",
   "pygments_lexer": "ipython3",
   "version": "3.5.2"
  }
 },
 "nbformat": 4,
 "nbformat_minor": 2
}
