{
 "cells": [
  {
   "cell_type": "code",
   "execution_count": 18,
   "metadata": {
    "collapsed": false,
    "deletable": true,
    "editable": true
   },
   "outputs": [
    {
     "data": {
      "text/plain": [
       "'\\nCreated on Wed Apr 5 2:21:12 2017\\n\\n@author: Batul Zamin\\n'"
      ]
     },
     "execution_count": 18,
     "metadata": {},
     "output_type": "execute_result"
    }
   ],
   "source": [
    "\"\"\"\n",
    "Created on Wed Apr 5 2:21:12 2017\n",
    "\n",
    "@author: Batul Zamin\n",
    "\"\"\""
   ]
  },
  {
   "cell_type": "code",
   "execution_count": 2,
   "metadata": {
    "collapsed": true,
    "deletable": true,
    "editable": true
   },
   "outputs": [],
   "source": [
    "# import statements\n",
    "import pandas as pd\n",
    "import numpy as np\n",
    "from sklearn.metrics.pairwise import cosine_similarity"
   ]
  },
  {
   "cell_type": "code",
   "execution_count": 3,
   "metadata": {
    "collapsed": false,
    "deletable": true,
    "editable": true
   },
   "outputs": [],
   "source": [
    "# reading the data\n",
    "header1 = ['user_id', 'item_id', 'rating', 'timestamp']\n",
    "df_data = pd.read_csv('ml-100k/u.data', sep='\\t', names=header1)\n",
    "header2 = ['user_id', 'age', 'gender', 'occupation', 'zip_code']\n",
    "df_user = pd.read_csv('ml-100k/u.user', sep='|', names=header2)\n",
    "header3 = ['movie_id', 'movie_title', 'release_date', 'video_release_date', 'IMDb_URL', 'unknown', 'Action', 'Adventure',\n",
    "           'Animation', 'Children\\'s', 'Comedy', 'Crime', 'Documentary', 'Drama', 'Fantasy', 'Film-Noir', 'Horror',\n",
    "           'Musical', 'Mystery', 'Romance', 'Sci-Fi', 'Thriller', 'War', 'Western']\n",
    "df_item = pd.read_csv('ml-100k/u.item', sep='|', names=header3, encoding='latin-1')"
   ]
  },
  {
   "cell_type": "code",
   "execution_count": 4,
   "metadata": {
    "collapsed": false,
    "deletable": true,
    "editable": true
   },
   "outputs": [
    {
     "name": "stdout",
     "output_type": "stream",
     "text": [
      "Number of users = 943 | Number of movies = 1682\n"
     ]
    }
   ],
   "source": [
    "n_users = df_data.user_id.unique().shape[0]\n",
    "n_items = df_data.item_id.unique().shape[0]\n",
    "print('Number of users = ' + str(n_users) + ' | Number of movies = ' + str(n_items))"
   ]
  },
  {
   "cell_type": "code",
   "execution_count": 5,
   "metadata": {
    "collapsed": true,
    "deletable": true,
    "editable": true
   },
   "outputs": [],
   "source": [
    "rating_matrix = np.zeros((n_users, n_items))\n",
    "for line in df_data.itertuples():\n",
    "    rating_matrix[line[1]-1, line[2]-1] = line[3]"
   ]
  },
  {
   "cell_type": "code",
   "execution_count": 6,
   "metadata": {
    "collapsed": false,
    "deletable": true,
    "editable": true
   },
   "outputs": [],
   "source": [
    "# rating_matrix[rating_matrix==0] = np.nan\n",
    "mean_rating = np.nanmean(rating_matrix, axis=1)\n",
    "diff_ratings = rating_matrix - mean_rating[:, np.newaxis]\n",
    "# diff_ratings = np.nan_to_num(diff_ratings)"
   ]
  },
  {
   "cell_type": "code",
   "execution_count": 7,
   "metadata": {
    "collapsed": true,
    "deletable": true,
    "editable": true
   },
   "outputs": [],
   "source": [
    "x_train = diff_ratings[:-1]\n",
    "query = diff_ratings[-1]"
   ]
  },
  {
   "cell_type": "code",
   "execution_count": 8,
   "metadata": {
    "collapsed": false,
    "deletable": true,
    "editable": true
   },
   "outputs": [
    {
     "name": "stderr",
     "output_type": "stream",
     "text": [
      "/home/user/dummy/lib/python3.5/site-packages/sklearn/utils/validation.py:395: DeprecationWarning: Passing 1d arrays as data is deprecated in 0.17 and will raise ValueError in 0.19. Reshape your data either using X.reshape(-1, 1) if your data has a single feature or X.reshape(1, -1) if it contains a single sample.\n",
      "  DeprecationWarning)\n"
     ]
    }
   ],
   "source": [
    "similarity = cosine_similarity(x_train, query).T"
   ]
  },
  {
   "cell_type": "code",
   "execution_count": 9,
   "metadata": {
    "collapsed": true,
    "deletable": true,
    "editable": true
   },
   "outputs": [],
   "source": [
    "user = list(similarity[0])"
   ]
  },
  {
   "cell_type": "code",
   "execution_count": 10,
   "metadata": {
    "collapsed": true,
    "deletable": true,
    "editable": true
   },
   "outputs": [],
   "source": [
    "sorted_user = sorted(user, reverse=True)"
   ]
  },
  {
   "cell_type": "code",
   "execution_count": 11,
   "metadata": {
    "collapsed": true,
    "deletable": true,
    "editable": true
   },
   "outputs": [],
   "source": [
    "top_users = sorted_user[:10]"
   ]
  },
  {
   "cell_type": "code",
   "execution_count": 12,
   "metadata": {
    "collapsed": false,
    "deletable": true,
    "editable": true
   },
   "outputs": [
    {
     "data": {
      "text/plain": [
       "[0.48466607756146596,\n",
       " 0.46462042333257736,\n",
       " 0.463002624563851,\n",
       " 0.46120953031227402,\n",
       " 0.44820385251791706,\n",
       " 0.4443383506935516,\n",
       " 0.4416383499928983,\n",
       " 0.43484884153197501,\n",
       " 0.43070319091937054,\n",
       " 0.428110414606864]"
      ]
     },
     "execution_count": 12,
     "metadata": {},
     "output_type": "execute_result"
    }
   ],
   "source": [
    "top_users"
   ]
  },
  {
   "cell_type": "code",
   "execution_count": 13,
   "metadata": {
    "collapsed": true,
    "deletable": true,
    "editable": true
   },
   "outputs": [],
   "source": [
    "pred = np.zeros(x_train[0].shape)\n",
    "for i in top_users:\n",
    "    ind = user.index(i)\n",
    "    pred += i * x_train[ind]"
   ]
  },
  {
   "cell_type": "code",
   "execution_count": 14,
   "metadata": {
    "collapsed": false,
    "deletable": true,
    "editable": true
   },
   "outputs": [
    {
     "data": {
      "text/plain": [
       "(1682,)"
      ]
     },
     "execution_count": 14,
     "metadata": {},
     "output_type": "execute_result"
    }
   ],
   "source": [
    "pred.shape"
   ]
  },
  {
   "cell_type": "code",
   "execution_count": 15,
   "metadata": {
    "collapsed": true,
    "deletable": true,
    "editable": true
   },
   "outputs": [],
   "source": [
    "pred_sorted = sorted(pred, reverse=True)\n",
    "top_pred = pred_sorted[:10]\n",
    "index = []\n",
    "pred = list(pred)\n",
    "for i in top_pred:\n",
    "    index.append(pred.index(i))"
   ]
  },
  {
   "cell_type": "code",
   "execution_count": 16,
   "metadata": {
    "collapsed": false,
    "deletable": true,
    "editable": true
   },
   "outputs": [
    {
     "data": {
      "text/plain": [
       "[317, 55, 63, 21, 173, 68, 49, 10, 78, 171]"
      ]
     },
     "execution_count": 16,
     "metadata": {},
     "output_type": "execute_result"
    }
   ],
   "source": [
    "index"
   ]
  },
  {
   "cell_type": "code",
   "execution_count": 17,
   "metadata": {
    "collapsed": false,
    "deletable": true,
    "editable": true
   },
   "outputs": [
    {
     "name": "stdout",
     "output_type": "stream",
     "text": [
      "317    Schindler's List (1993)\n",
      "Name: movie_title, dtype: object\n",
      "55    Pulp Fiction (1994)\n",
      "Name: movie_title, dtype: object\n",
      "63    Shawshank Redemption, The (1994)\n",
      "Name: movie_title, dtype: object\n",
      "21    Braveheart (1995)\n",
      "Name: movie_title, dtype: object\n",
      "173    Raiders of the Lost Ark (1981)\n",
      "Name: movie_title, dtype: object\n",
      "68    Forrest Gump (1994)\n",
      "Name: movie_title, dtype: object\n",
      "49    Star Wars (1977)\n",
      "Name: movie_title, dtype: object\n",
      "10    Seven (Se7en) (1995)\n",
      "Name: movie_title, dtype: object\n",
      "78    Fugitive, The (1993)\n",
      "Name: movie_title, dtype: object\n",
      "171    Empire Strikes Back, The (1980)\n",
      "Name: movie_title, dtype: object\n"
     ]
    }
   ],
   "source": [
    "for i in index:\n",
    "    movie = df_item['movie_title'][df_item['movie_id'] == i+1]\n",
    "    print(movie)"
   ]
  },
  {
   "cell_type": "code",
   "execution_count": null,
   "metadata": {
    "collapsed": true,
    "deletable": true,
    "editable": true
   },
   "outputs": [],
   "source": []
  }
 ],
 "metadata": {
  "kernelspec": {
   "display_name": "Python 3",
   "language": "python",
   "name": "python3"
  },
  "language_info": {
   "codemirror_mode": {
    "name": "ipython",
    "version": 3
   },
   "file_extension": ".py",
   "mimetype": "text/x-python",
   "name": "python",
   "nbconvert_exporter": "python",
   "pygments_lexer": "ipython3",
   "version": "3.5.2"
  }
 },
 "nbformat": 4,
 "nbformat_minor": 2
}
