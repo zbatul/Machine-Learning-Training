{
 "cells": [
  {
   "cell_type": "code",
   "execution_count": 1,
   "metadata": {
    "collapsed": false
   },
   "outputs": [
    {
     "data": {
      "text/plain": [
       "'\\nCreated on Thursday Apr 6 11:21:12 2017\\n\\n@author: Batul Zamin\\n'"
      ]
     },
     "execution_count": 1,
     "metadata": {},
     "output_type": "execute_result"
    }
   ],
   "source": [
    "\"\"\"\n",
    "Created on Thursday Apr 6 11:21:12 2017\n",
    "\n",
    "@author: Batul Zamin\n",
    "\"\"\""
   ]
  },
  {
   "cell_type": "code",
   "execution_count": 25,
   "metadata": {
    "collapsed": false
   },
   "outputs": [],
   "source": [
    "# import statements\n",
    "import pandas as pd\n",
    "import numpy as np\n",
    "import scipy.sparse as sp\n",
    "from scipy.sparse.linalg import svds\n",
    "from sklearn import cross_validation as cv\n",
    "from sklearn.metrics import mean_squared_error\n",
    "from math import sqrt"
   ]
  },
  {
   "cell_type": "code",
   "execution_count": 118,
   "metadata": {
    "collapsed": true
   },
   "outputs": [],
   "source": [
    "# reading the data\n",
    "header1 = ['user_id', 'item_id', 'rating', 'timestamp']\n",
    "df_data = pd.read_csv('ml-100k/u.data', sep='\\t', names=header1)\n",
    "header2 = ['user_id', 'age', 'gender', 'occupation', 'zip_code']\n",
    "df_user = pd.read_csv('ml-100k/u.user', sep='|', names=header2)\n",
    "header3 = ['movie_id', 'movie_title', 'release_date', 'video_release_date', 'IMDb_URL', 'unknown', 'Action', 'Adventure',\n",
    "           'Animation', 'Children\\'s', 'Comedy', 'Crime', 'Documentary', 'Drama', 'Fantasy', 'Film-Noir', 'Horror',\n",
    "           'Musical', 'Mystery', 'Romance', 'Sci-Fi', 'Thriller', 'War', 'Western']\n",
    "df_item = pd.read_csv('ml-100k/u.item', sep='|', names=header3, encoding='latin-1')\n",
    "df_genre = pd.read_csv('ml-100k/u.genre')"
   ]
  },
  {
   "cell_type": "code",
   "execution_count": 27,
   "metadata": {
    "collapsed": false
   },
   "outputs": [
    {
     "name": "stdout",
     "output_type": "stream",
     "text": [
      "Number of users = 943 | Number of movies = 1682\n"
     ]
    }
   ],
   "source": [
    "n_users = df_data.user_id.unique().shape[0]\n",
    "n_items = df_data.item_id.unique().shape[0]\n",
    "print('Number of users = ' + str(n_users) + ' | Number of movies = ' + str(n_items))"
   ]
  },
  {
   "cell_type": "code",
   "execution_count": 28,
   "metadata": {
    "collapsed": false
   },
   "outputs": [],
   "source": [
    "train_data, test_data = cv.train_test_split(df_data, test_size=0.25)"
   ]
  },
  {
   "cell_type": "code",
   "execution_count": 29,
   "metadata": {
    "collapsed": false
   },
   "outputs": [],
   "source": [
    "#Create two user-item matrices, one for training and another for testing\n",
    "train_data_matrix = np.zeros((n_users, n_items))\n",
    "for line in train_data.itertuples():\n",
    "    train_data_matrix[line[1]-1, line[2]-1] = line[3]  \n",
    "\n",
    "test_data_matrix = np.zeros((n_users, n_items))\n",
    "for line in test_data.itertuples():\n",
    "    test_data_matrix[line[1]-1, line[2]-1] = line[3]"
   ]
  },
  {
   "cell_type": "markdown",
   "metadata": {},
   "source": [
    "## SVD"
   ]
  },
  {
   "cell_type": "code",
   "execution_count": 32,
   "metadata": {
    "collapsed": false
   },
   "outputs": [],
   "source": [
    "#get SVD components from train matrix. Choose k.\n",
    "u, s, vt = svds(train_data_matrix, k = 20)\n",
    "s_diag_matrix=np.diag(s)\n",
    "X_pred = np.dot(np.dot(u, s_diag_matrix), vt)"
   ]
  },
  {
   "cell_type": "code",
   "execution_count": 30,
   "metadata": {
    "collapsed": true
   },
   "outputs": [],
   "source": [
    "# rmse function\n",
    "def rmse(prediction, ground_truth):\n",
    "    prediction = prediction[ground_truth.nonzero()].flatten() \n",
    "    ground_truth = ground_truth[ground_truth.nonzero()].flatten()\n",
    "    return sqrt(mean_squared_error(prediction, ground_truth))"
   ]
  },
  {
   "cell_type": "code",
   "execution_count": 33,
   "metadata": {
    "collapsed": false
   },
   "outputs": [
    {
     "name": "stdout",
     "output_type": "stream",
     "text": [
      "User-based CF MSE: 2.729144590827228\n"
     ]
    }
   ],
   "source": [
    "print('User-based CF MSE: ' + str(rmse(X_pred, test_data_matrix)))"
   ]
  },
  {
   "cell_type": "code",
   "execution_count": 36,
   "metadata": {
    "collapsed": false,
    "scrolled": true
   },
   "outputs": [
    {
     "data": {
      "text/html": [
       "<div>\n",
       "<table border=\"1\" class=\"dataframe\">\n",
       "  <thead>\n",
       "    <tr style=\"text-align: right;\">\n",
       "      <th></th>\n",
       "      <th>0</th>\n",
       "      <th>1</th>\n",
       "      <th>2</th>\n",
       "      <th>3</th>\n",
       "      <th>4</th>\n",
       "      <th>5</th>\n",
       "      <th>6</th>\n",
       "      <th>7</th>\n",
       "      <th>8</th>\n",
       "      <th>9</th>\n",
       "      <th>...</th>\n",
       "      <th>1672</th>\n",
       "      <th>1673</th>\n",
       "      <th>1674</th>\n",
       "      <th>1675</th>\n",
       "      <th>1676</th>\n",
       "      <th>1677</th>\n",
       "      <th>1678</th>\n",
       "      <th>1679</th>\n",
       "      <th>1680</th>\n",
       "      <th>1681</th>\n",
       "    </tr>\n",
       "  </thead>\n",
       "  <tbody>\n",
       "    <tr>\n",
       "      <th>0</th>\n",
       "      <td>3.464699</td>\n",
       "      <td>1.753597</td>\n",
       "      <td>0.748777</td>\n",
       "      <td>3.660735</td>\n",
       "      <td>0.676903</td>\n",
       "      <td>0.675749</td>\n",
       "      <td>3.314681</td>\n",
       "      <td>3.322994</td>\n",
       "      <td>3.503316</td>\n",
       "      <td>0.942290</td>\n",
       "      <td>...</td>\n",
       "      <td>-0.017823</td>\n",
       "      <td>0.022305</td>\n",
       "      <td>-0.010217</td>\n",
       "      <td>-0.006811</td>\n",
       "      <td>0.048006</td>\n",
       "      <td>-0.001066</td>\n",
       "      <td>-0.003198</td>\n",
       "      <td>-0.002132</td>\n",
       "      <td>0.0</td>\n",
       "      <td>0.045136</td>\n",
       "    </tr>\n",
       "    <tr>\n",
       "      <th>1</th>\n",
       "      <td>1.966158</td>\n",
       "      <td>-0.006043</td>\n",
       "      <td>0.039508</td>\n",
       "      <td>0.037362</td>\n",
       "      <td>-0.133284</td>\n",
       "      <td>0.213839</td>\n",
       "      <td>1.328381</td>\n",
       "      <td>0.485678</td>\n",
       "      <td>1.644366</td>\n",
       "      <td>0.478464</td>\n",
       "      <td>...</td>\n",
       "      <td>-0.004890</td>\n",
       "      <td>-0.004848</td>\n",
       "      <td>-0.012862</td>\n",
       "      <td>-0.008575</td>\n",
       "      <td>-0.008246</td>\n",
       "      <td>0.005899</td>\n",
       "      <td>0.017697</td>\n",
       "      <td>0.011798</td>\n",
       "      <td>0.0</td>\n",
       "      <td>-0.025598</td>\n",
       "    </tr>\n",
       "    <tr>\n",
       "      <th>2</th>\n",
       "      <td>0.220115</td>\n",
       "      <td>0.016391</td>\n",
       "      <td>0.192779</td>\n",
       "      <td>0.020930</td>\n",
       "      <td>-0.019394</td>\n",
       "      <td>-0.014254</td>\n",
       "      <td>0.081044</td>\n",
       "      <td>-0.099332</td>\n",
       "      <td>-0.288838</td>\n",
       "      <td>0.037564</td>\n",
       "      <td>...</td>\n",
       "      <td>0.005125</td>\n",
       "      <td>-0.000617</td>\n",
       "      <td>0.017585</td>\n",
       "      <td>0.011723</td>\n",
       "      <td>-0.012428</td>\n",
       "      <td>0.010292</td>\n",
       "      <td>0.030877</td>\n",
       "      <td>0.020584</td>\n",
       "      <td>0.0</td>\n",
       "      <td>-0.005591</td>\n",
       "    </tr>\n",
       "    <tr>\n",
       "      <th>3</th>\n",
       "      <td>0.041644</td>\n",
       "      <td>-0.042685</td>\n",
       "      <td>0.054059</td>\n",
       "      <td>0.070522</td>\n",
       "      <td>0.187286</td>\n",
       "      <td>-0.014718</td>\n",
       "      <td>0.069777</td>\n",
       "      <td>0.025522</td>\n",
       "      <td>-0.000405</td>\n",
       "      <td>-0.127153</td>\n",
       "      <td>...</td>\n",
       "      <td>0.005162</td>\n",
       "      <td>-0.005734</td>\n",
       "      <td>0.002550</td>\n",
       "      <td>0.001700</td>\n",
       "      <td>0.003807</td>\n",
       "      <td>0.003247</td>\n",
       "      <td>0.009740</td>\n",
       "      <td>0.006493</td>\n",
       "      <td>0.0</td>\n",
       "      <td>-0.006006</td>\n",
       "    </tr>\n",
       "    <tr>\n",
       "      <th>4</th>\n",
       "      <td>2.193036</td>\n",
       "      <td>0.927787</td>\n",
       "      <td>0.448958</td>\n",
       "      <td>1.400240</td>\n",
       "      <td>0.483124</td>\n",
       "      <td>-0.030250</td>\n",
       "      <td>1.819327</td>\n",
       "      <td>1.183655</td>\n",
       "      <td>-1.446971</td>\n",
       "      <td>0.314388</td>\n",
       "      <td>...</td>\n",
       "      <td>-0.020805</td>\n",
       "      <td>-0.002277</td>\n",
       "      <td>-0.044926</td>\n",
       "      <td>-0.029951</td>\n",
       "      <td>-0.013388</td>\n",
       "      <td>0.000443</td>\n",
       "      <td>0.001329</td>\n",
       "      <td>0.000886</td>\n",
       "      <td>0.0</td>\n",
       "      <td>0.001063</td>\n",
       "    </tr>\n",
       "  </tbody>\n",
       "</table>\n",
       "<p>5 rows × 1682 columns</p>\n",
       "</div>"
      ],
      "text/plain": [
       "       0         1         2         3         4         5         6     \\\n",
       "0  3.464699  1.753597  0.748777  3.660735  0.676903  0.675749  3.314681   \n",
       "1  1.966158 -0.006043  0.039508  0.037362 -0.133284  0.213839  1.328381   \n",
       "2  0.220115  0.016391  0.192779  0.020930 -0.019394 -0.014254  0.081044   \n",
       "3  0.041644 -0.042685  0.054059  0.070522  0.187286 -0.014718  0.069777   \n",
       "4  2.193036  0.927787  0.448958  1.400240  0.483124 -0.030250  1.819327   \n",
       "\n",
       "       7         8         9       ...         1672      1673      1674  \\\n",
       "0  3.322994  3.503316  0.942290    ...    -0.017823  0.022305 -0.010217   \n",
       "1  0.485678  1.644366  0.478464    ...    -0.004890 -0.004848 -0.012862   \n",
       "2 -0.099332 -0.288838  0.037564    ...     0.005125 -0.000617  0.017585   \n",
       "3  0.025522 -0.000405 -0.127153    ...     0.005162 -0.005734  0.002550   \n",
       "4  1.183655 -1.446971  0.314388    ...    -0.020805 -0.002277 -0.044926   \n",
       "\n",
       "       1675      1676      1677      1678      1679  1680      1681  \n",
       "0 -0.006811  0.048006 -0.001066 -0.003198 -0.002132   0.0  0.045136  \n",
       "1 -0.008575 -0.008246  0.005899  0.017697  0.011798   0.0 -0.025598  \n",
       "2  0.011723 -0.012428  0.010292  0.030877  0.020584   0.0 -0.005591  \n",
       "3  0.001700  0.003807  0.003247  0.009740  0.006493   0.0 -0.006006  \n",
       "4 -0.029951 -0.013388  0.000443  0.001329  0.000886   0.0  0.001063  \n",
       "\n",
       "[5 rows x 1682 columns]"
      ]
     },
     "execution_count": 36,
     "metadata": {},
     "output_type": "execute_result"
    }
   ],
   "source": [
    "pd.DataFrame(X_pred).head()"
   ]
  },
  {
   "cell_type": "markdown",
   "metadata": {},
   "source": [
    "## Predict the ratings for one user"
   ]
  },
  {
   "cell_type": "code",
   "execution_count": 122,
   "metadata": {
    "collapsed": false
   },
   "outputs": [
    {
     "name": "stdout",
     "output_type": "stream",
     "text": [
      "940\n"
     ]
    }
   ],
   "source": [
    "u = input()"
   ]
  },
  {
   "cell_type": "code",
   "execution_count": 124,
   "metadata": {
    "collapsed": false
   },
   "outputs": [],
   "source": [
    "user = X_pred[int(u)]"
   ]
  },
  {
   "cell_type": "code",
   "execution_count": 221,
   "metadata": {
    "collapsed": true
   },
   "outputs": [],
   "source": [
    "rec_movie = sorted(user, reverse=True)"
   ]
  },
  {
   "cell_type": "code",
   "execution_count": 223,
   "metadata": {
    "collapsed": false
   },
   "outputs": [
    {
     "data": {
      "text/plain": [
       "[2.2388220733601134,\n",
       " 2.2349730132227581,\n",
       " 2.1176522494341392,\n",
       " 1.733800083917526,\n",
       " 1.6563490768399076,\n",
       " 1.6037703185183494,\n",
       " 1.5744030232045685,\n",
       " 1.4595028892643374,\n",
       " 1.406534246792529,\n",
       " 1.3017582002165367]"
      ]
     },
     "execution_count": 223,
     "metadata": {},
     "output_type": "execute_result"
    }
   ],
   "source": [
    "rec_movie[:10]"
   ]
  },
  {
   "cell_type": "markdown",
   "metadata": {},
   "source": [
    "## Comparison of watched and recommended top 10 movies"
   ]
  },
  {
   "cell_type": "code",
   "execution_count": 188,
   "metadata": {
    "collapsed": true
   },
   "outputs": [],
   "source": [
    "watched_movie_index = list(df_data.item_id[df_data.user_id==int(u)])"
   ]
  },
  {
   "cell_type": "code",
   "execution_count": 194,
   "metadata": {
    "collapsed": true
   },
   "outputs": [],
   "source": [
    "watched_movie_title = []\n",
    "for i in watched_movie_index:\n",
    "    watched_movie_title.append(list(df_item.movie_title[df_item['movie_id'] == i+1]))"
   ]
  },
  {
   "cell_type": "code",
   "execution_count": 213,
   "metadata": {
    "collapsed": false
   },
   "outputs": [],
   "source": [
    "df1 = pd.DataFrame(columns=['watched'])\n",
    "for i in watched_movie_title:\n",
    "    df1.loc[-1] = i\n",
    "    df1.index += 1\n",
    "df1 = df1.reset_index(drop=True)"
   ]
  },
  {
   "cell_type": "code",
   "execution_count": 182,
   "metadata": {
    "collapsed": false
   },
   "outputs": [],
   "source": [
    "indexes = []\n",
    "count = 0\n",
    "for i in rec_movie:\n",
    "    ind = list(zip(*np.where(X_pred == i)))\n",
    "    if len(ind) > 1:\n",
    "        indexes.append(ind[count])\n",
    "    else:\n",
    "        indexes.append(ind[0])"
   ]
  },
  {
   "cell_type": "code",
   "execution_count": 186,
   "metadata": {
    "collapsed": false
   },
   "outputs": [],
   "source": [
    "rec_movie_index = [indexes[i][1] for i in range(len(indexes)) if indexes[i][1] not in watched_movie_index]"
   ]
  },
  {
   "cell_type": "code",
   "execution_count": 196,
   "metadata": {
    "collapsed": false
   },
   "outputs": [],
   "source": [
    "rec_movie_title = []\n",
    "for i in rec_movie_index[:10]:\n",
    "    rec_movie_title.append(list(df_item.movie_title[df_item['movie_id'] == i+1]))"
   ]
  },
  {
   "cell_type": "code",
   "execution_count": 215,
   "metadata": {
    "collapsed": false
   },
   "outputs": [],
   "source": [
    "df2 = pd.DataFrame(columns=['recommended'])\n",
    "for i in rec_movie_title:\n",
    "    df2.loc[-1] = i\n",
    "    df2.index += 1\n",
    "df2 = df2.reset_index(drop=True) "
   ]
  },
  {
   "cell_type": "code",
   "execution_count": 220,
   "metadata": {
    "collapsed": false
   },
   "outputs": [
    {
     "data": {
      "text/html": [
       "<div>\n",
       "<table border=\"1\" class=\"dataframe\">\n",
       "  <thead>\n",
       "    <tr style=\"text-align: right;\">\n",
       "      <th></th>\n",
       "      <th>0</th>\n",
       "      <th>1</th>\n",
       "    </tr>\n",
       "  </thead>\n",
       "  <tbody>\n",
       "    <tr>\n",
       "      <th>0</th>\n",
       "      <td>Sting, The (1973)</td>\n",
       "      <td>Contact (1997)</td>\n",
       "    </tr>\n",
       "    <tr>\n",
       "      <th>1</th>\n",
       "      <td>Wolf (1994)</td>\n",
       "      <td>Star Wars (1977)</td>\n",
       "    </tr>\n",
       "    <tr>\n",
       "      <th>2</th>\n",
       "      <td>Mr. Holland's Opus (1995)</td>\n",
       "      <td>Return of the Jedi (1983)</td>\n",
       "    </tr>\n",
       "    <tr>\n",
       "      <th>3</th>\n",
       "      <td>Akira (1988)</td>\n",
       "      <td>Twelve Monkeys (1995)</td>\n",
       "    </tr>\n",
       "    <tr>\n",
       "      <th>4</th>\n",
       "      <td>Heat (1995)</td>\n",
       "      <td>Star Trek: First Contact (1996)</td>\n",
       "    </tr>\n",
       "    <tr>\n",
       "      <th>5</th>\n",
       "      <td>M (1931)</td>\n",
       "      <td>Liar Liar (1997)</td>\n",
       "    </tr>\n",
       "    <tr>\n",
       "      <th>6</th>\n",
       "      <td>As Good As It Gets (1997)</td>\n",
       "      <td>Toy Story (1995)</td>\n",
       "    </tr>\n",
       "    <tr>\n",
       "      <th>7</th>\n",
       "      <td>Ace Ventura: Pet Detective (1994)</td>\n",
       "      <td>Scream (1996)</td>\n",
       "    </tr>\n",
       "    <tr>\n",
       "      <th>8</th>\n",
       "      <td>Career Girls (1997)</td>\n",
       "      <td>Air Force One (1997)</td>\n",
       "    </tr>\n",
       "    <tr>\n",
       "      <th>9</th>\n",
       "      <td>Fierce Creatures (1997)</td>\n",
       "      <td>Men in Black (1997)</td>\n",
       "    </tr>\n",
       "  </tbody>\n",
       "</table>\n",
       "</div>"
      ],
      "text/plain": [
       "                                   0                                1\n",
       "0                  Sting, The (1973)                   Contact (1997)\n",
       "1                        Wolf (1994)                 Star Wars (1977)\n",
       "2          Mr. Holland's Opus (1995)        Return of the Jedi (1983)\n",
       "3                       Akira (1988)            Twelve Monkeys (1995)\n",
       "4                        Heat (1995)  Star Trek: First Contact (1996)\n",
       "5                           M (1931)                 Liar Liar (1997)\n",
       "6          As Good As It Gets (1997)                 Toy Story (1995)\n",
       "7  Ace Ventura: Pet Detective (1994)                    Scream (1996)\n",
       "8                Career Girls (1997)             Air Force One (1997)\n",
       "9            Fierce Creatures (1997)              Men in Black (1997)"
      ]
     },
     "execution_count": 220,
     "metadata": {},
     "output_type": "execute_result"
    }
   ],
   "source": [
    "pd.concat([df1, df2], ignore_index=True, axis=1).head(10)"
   ]
  },
  {
   "cell_type": "code",
   "execution_count": null,
   "metadata": {
    "collapsed": true
   },
   "outputs": [],
   "source": []
  }
 ],
 "metadata": {
  "kernelspec": {
   "display_name": "Python 3",
   "language": "python",
   "name": "python3"
  },
  "language_info": {
   "codemirror_mode": {
    "name": "ipython",
    "version": 3
   },
   "file_extension": ".py",
   "mimetype": "text/x-python",
   "name": "python",
   "nbconvert_exporter": "python",
   "pygments_lexer": "ipython3",
   "version": "3.5.2"
  }
 },
 "nbformat": 4,
 "nbformat_minor": 2
}
