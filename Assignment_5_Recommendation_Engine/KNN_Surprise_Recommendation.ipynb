{
 "cells": [
  {
   "cell_type": "code",
   "execution_count": 1,
   "metadata": {
    "collapsed": false,
    "deletable": true,
    "editable": true
   },
   "outputs": [
    {
     "data": {
      "text/plain": [
       "'\\nCreated on Wed Apr 5 4:21:12 2017\\n\\n@author: Batul Zamin\\n'"
      ]
     },
     "execution_count": 1,
     "metadata": {},
     "output_type": "execute_result"
    }
   ],
   "source": [
    "\"\"\"\n",
    "Created on Wed Apr 5 4:21:12 2017\n",
    "\n",
    "@author: Batul Zamin\n",
    "\"\"\""
   ]
  },
  {
   "cell_type": "code",
   "execution_count": 2,
   "metadata": {
    "collapsed": true,
    "deletable": true,
    "editable": true
   },
   "outputs": [],
   "source": [
    "# import statements\n",
    "import pandas as pd\n",
    "import numpy as np\n",
    "from surprise.prediction_algorithms.knns import KNNWithMeans as knn\n",
    "from surprise import Dataset\n",
    "from surprise import evaluate"
   ]
  },
  {
   "cell_type": "code",
   "execution_count": 3,
   "metadata": {
    "collapsed": false,
    "deletable": true,
    "editable": true
   },
   "outputs": [],
   "source": [
    "# reading the data\n",
    "header1 = ['user_id', 'item_id', 'rating', 'timestamp']\n",
    "df_data = pd.read_csv('ml-100k/u.data', sep='\\t', names=header1)\n",
    "header2 = ['user_id', 'age', 'gender', 'occupation', 'zip_code']\n",
    "df_user = pd.read_csv('ml-100k/u.user', sep='|', names=header2)\n",
    "header3 = ['movie_id', 'movie_title', 'release_date', 'video_release_date', 'IMDb_URL', 'unknown', 'Action', 'Adventure',\n",
    "           'Animation', 'Children\\'s', 'Comedy', 'Crime', 'Documentary', 'Drama', 'Fantasy', 'Film-Noir', 'Horror',\n",
    "           'Musical', 'Mystery', 'Romance', 'Sci-Fi', 'Thriller', 'War', 'Western']\n",
    "df_item = pd.read_csv('ml-100k/u.item', sep='|', names=header3, encoding='latin-1')"
   ]
  },
  {
   "cell_type": "markdown",
   "metadata": {
    "deletable": true,
    "editable": true
   },
   "source": [
    "## KNN using the Surprise Package"
   ]
  },
  {
   "cell_type": "code",
   "execution_count": 4,
   "metadata": {
    "collapsed": true,
    "deletable": true,
    "editable": true
   },
   "outputs": [],
   "source": [
    "data = Dataset.load_builtin('ml-100k')\n",
    "data.split(n_folds=3)"
   ]
  },
  {
   "cell_type": "code",
   "execution_count": 5,
   "metadata": {
    "collapsed": true,
    "deletable": true,
    "editable": true
   },
   "outputs": [],
   "source": [
    "algo = knn(k=10, min_k=1)"
   ]
  },
  {
   "cell_type": "code",
   "execution_count": 6,
   "metadata": {
    "collapsed": false,
    "deletable": true,
    "editable": true
   },
   "outputs": [
    {
     "name": "stdout",
     "output_type": "stream",
     "text": [
      "Computing the msd similarity matrix...\n",
      "Done computing similarity matrix.\n",
      "Computing the msd similarity matrix...\n",
      "Done computing similarity matrix.\n",
      "Computing the msd similarity matrix...\n",
      "Done computing similarity matrix.\n"
     ]
    }
   ],
   "source": [
    "for trainset, testset in data.folds():\n",
    "    algo.train(trainset)\n",
    "    pred = algo.test(testset)"
   ]
  },
  {
   "cell_type": "code",
   "execution_count": 7,
   "metadata": {
    "collapsed": false,
    "deletable": true,
    "editable": true,
    "scrolled": true
   },
   "outputs": [
    {
     "name": "stdout",
     "output_type": "stream",
     "text": [
      "Evaluating RMSE, MAE of algorithm KNNWithMeans.\n",
      "\n",
      "------------\n",
      "Fold 1\n",
      "Computing the msd similarity matrix...\n",
      "Done computing similarity matrix.\n",
      "RMSE: 0.9807\n",
      "MAE:  0.7730\n",
      "------------\n",
      "Fold 2\n",
      "Computing the msd similarity matrix...\n",
      "Done computing similarity matrix.\n",
      "RMSE: 0.9848\n",
      "MAE:  0.7784\n",
      "------------\n",
      "Fold 3\n",
      "Computing the msd similarity matrix...\n",
      "Done computing similarity matrix.\n",
      "RMSE: 0.9782\n",
      "MAE:  0.7704\n",
      "------------\n",
      "------------\n",
      "Mean RMSE: 0.9812\n",
      "Mean MAE : 0.7739\n",
      "------------\n",
      "------------\n"
     ]
    }
   ],
   "source": [
    "perf = evaluate(algo, data, measures=['RMSE', 'MAE'])"
   ]
  },
  {
   "cell_type": "code",
   "execution_count": 8,
   "metadata": {
    "collapsed": false,
    "deletable": true,
    "editable": true,
    "scrolled": true
   },
   "outputs": [
    {
     "data": {
      "text/plain": [
       "[Prediction(uid='339', iid='190', r_ui=4.0, est=4.6569812469496625, details={'actual_k': 10, 'was_impossible': False}),\n",
       " Prediction(uid='655', iid='874', r_ui=4.0, est=2.0055058677249109, details={'actual_k': 10, 'was_impossible': False}),\n",
       " Prediction(uid='802', iid='565', r_ui=3.0, est=2.480293921488756, details={'actual_k': 10, 'was_impossible': False}),\n",
       " Prediction(uid='656', iid='689', r_ui=2.0, est=1.8816416225659389, details={'actual_k': 10, 'was_impossible': False}),\n",
       " Prediction(uid='381', iid='77', r_ui=2.0, est=3.6675021418886935, details={'actual_k': 10, 'was_impossible': False})]"
      ]
     },
     "execution_count": 8,
     "metadata": {},
     "output_type": "execute_result"
    }
   ],
   "source": [
    "pred[:5]"
   ]
  },
  {
   "cell_type": "markdown",
   "metadata": {
    "deletable": true,
    "editable": true
   },
   "source": [
    "## Predict the ratings for one user"
   ]
  },
  {
   "cell_type": "code",
   "execution_count": 150,
   "metadata": {
    "collapsed": false,
    "deletable": true,
    "editable": true,
    "scrolled": true
   },
   "outputs": [
    {
     "name": "stdout",
     "output_type": "stream",
     "text": [
      "940\n"
     ]
    }
   ],
   "source": [
    "# Enter user to recommend movies\n",
    "u = input()"
   ]
  },
  {
   "cell_type": "code",
   "execution_count": 151,
   "metadata": {
    "collapsed": false,
    "deletable": true,
    "editable": true
   },
   "outputs": [],
   "source": [
    "predict = []\n",
    "for i in range(1682):\n",
    "    predict.append(algo.predict(str(u), str(i), r_ui=float(df_data.rating[i])).est)"
   ]
  },
  {
   "cell_type": "code",
   "execution_count": 152,
   "metadata": {
    "collapsed": false,
    "deletable": true,
    "editable": true
   },
   "outputs": [],
   "source": [
    "rec_movie = sorted(predict, reverse=True)"
   ]
  },
  {
   "cell_type": "markdown",
   "metadata": {
    "deletable": true,
    "editable": true
   },
   "source": [
    "## Comparison of watched and recommended top 10 movies"
   ]
  },
  {
   "cell_type": "code",
   "execution_count": 153,
   "metadata": {
    "collapsed": true,
    "deletable": true,
    "editable": true
   },
   "outputs": [],
   "source": [
    "watched_movie_index = list(df_data.item_id[df_data.user_id==int(u)])"
   ]
  },
  {
   "cell_type": "code",
   "execution_count": 154,
   "metadata": {
    "collapsed": true,
    "deletable": true,
    "editable": true
   },
   "outputs": [],
   "source": [
    "watched_movie_title = []\n",
    "for i in watched_movie_index:\n",
    "    watched_movie_title.append(list(df_item.movie_title[df_item['movie_id'] == i+1]))"
   ]
  },
  {
   "cell_type": "code",
   "execution_count": 155,
   "metadata": {
    "collapsed": true,
    "deletable": true,
    "editable": true
   },
   "outputs": [],
   "source": [
    "df1 = pd.DataFrame(columns=['watched'])\n",
    "for i in watched_movie_title:\n",
    "    df1.loc[-1] = i\n",
    "    df1.index += 1\n",
    "df1 = df1.reset_index(drop=True)"
   ]
  },
  {
   "cell_type": "code",
   "execution_count": 156,
   "metadata": {
    "collapsed": true,
    "deletable": true,
    "editable": true
   },
   "outputs": [],
   "source": [
    "get_indexes = lambda x, xs: [i for (y, i) in zip(xs, range(len(xs))) if x == y]"
   ]
  },
  {
   "cell_type": "code",
   "execution_count": 188,
   "metadata": {
    "collapsed": false,
    "deletable": true,
    "editable": true,
    "scrolled": true
   },
   "outputs": [],
   "source": [
    "indexes = []\n",
    "predict = list(predict)\n",
    "count = 1\n",
    "for i in rec_movie:\n",
    "    if predict.index(i) in indexes:\n",
    "        if count < len(get_indexes(i, predict)):\n",
    "            indexes.append(get_indexes(i, predict)[count])\n",
    "            count += 1\n",
    "        else:\n",
    "            count = 0\n",
    "            indexes.append(get_indexes(i, predict)[count])\n",
    "    else:\n",
    "        indexes.append(predict.index(i))"
   ]
  },
  {
   "cell_type": "code",
   "execution_count": 190,
   "metadata": {
    "collapsed": true,
    "deletable": true,
    "editable": true
   },
   "outputs": [],
   "source": [
    "rec_movie_index = [indexes[i] for i in range(len(indexes)) if indexes[i] not in watched_movie_index]"
   ]
  },
  {
   "cell_type": "code",
   "execution_count": 191,
   "metadata": {
    "collapsed": true,
    "deletable": true,
    "editable": true
   },
   "outputs": [],
   "source": [
    "rec_movie_title = []\n",
    "for i in rec_movie_index[:10]:\n",
    "    rec_movie_title.append(list(df_item.movie_title[df_item['movie_id'] == i+1]))"
   ]
  },
  {
   "cell_type": "code",
   "execution_count": 192,
   "metadata": {
    "collapsed": true,
    "deletable": true,
    "editable": true
   },
   "outputs": [],
   "source": [
    "df2 = pd.DataFrame(columns=['recommended'])\n",
    "for i in rec_movie_title:\n",
    "    df2.loc[-1] = i\n",
    "    df2.index += 1\n",
    "df2 = df2.reset_index(drop=True) "
   ]
  },
  {
   "cell_type": "code",
   "execution_count": 193,
   "metadata": {
    "collapsed": false,
    "deletable": true,
    "editable": true
   },
   "outputs": [],
   "source": [
    "df = pd.concat([df1, df2], ignore_index=True, axis=1)"
   ]
  },
  {
   "cell_type": "code",
   "execution_count": 195,
   "metadata": {
    "collapsed": false,
    "deletable": true,
    "editable": true
   },
   "outputs": [
    {
     "data": {
      "text/html": [
       "<div>\n",
       "<table border=\"1\" class=\"dataframe\">\n",
       "  <thead>\n",
       "    <tr style=\"text-align: right;\">\n",
       "      <th></th>\n",
       "      <th>0</th>\n",
       "      <th>1</th>\n",
       "    </tr>\n",
       "  </thead>\n",
       "  <tbody>\n",
       "    <tr>\n",
       "      <th>0</th>\n",
       "      <td>Sting, The (1973)</td>\n",
       "      <td>One Fine Day (1996)</td>\n",
       "    </tr>\n",
       "    <tr>\n",
       "      <th>1</th>\n",
       "      <td>Wolf (1994)</td>\n",
       "      <td>Cure, The (1995)</td>\n",
       "    </tr>\n",
       "    <tr>\n",
       "      <th>2</th>\n",
       "      <td>Mr. Holland's Opus (1995)</td>\n",
       "      <td>Carpool (1996)</td>\n",
       "    </tr>\n",
       "    <tr>\n",
       "      <th>3</th>\n",
       "      <td>Akira (1988)</td>\n",
       "      <td>Cosi (1996)</td>\n",
       "    </tr>\n",
       "    <tr>\n",
       "      <th>4</th>\n",
       "      <td>Heat (1995)</td>\n",
       "      <td>Silence of the Palace, The (Saimt el Qusur) (1...</td>\n",
       "    </tr>\n",
       "    <tr>\n",
       "      <th>5</th>\n",
       "      <td>M (1931)</td>\n",
       "      <td>Prisoner of the Mountains (Kavkazsky Plennik) ...</td>\n",
       "    </tr>\n",
       "    <tr>\n",
       "      <th>6</th>\n",
       "      <td>As Good As It Gets (1997)</td>\n",
       "      <td>Angel Baby (1995)</td>\n",
       "    </tr>\n",
       "    <tr>\n",
       "      <th>7</th>\n",
       "      <td>Ace Ventura: Pet Detective (1994)</td>\n",
       "      <td>Rhyme &amp; Reason (1997)</td>\n",
       "    </tr>\n",
       "    <tr>\n",
       "      <th>8</th>\n",
       "      <td>Career Girls (1997)</td>\n",
       "      <td>Golden Earrings (1947)</td>\n",
       "    </tr>\n",
       "    <tr>\n",
       "      <th>9</th>\n",
       "      <td>Fierce Creatures (1997)</td>\n",
       "      <td>Sprung (1997)</td>\n",
       "    </tr>\n",
       "  </tbody>\n",
       "</table>\n",
       "</div>"
      ],
      "text/plain": [
       "                                   0  \\\n",
       "0                  Sting, The (1973)   \n",
       "1                        Wolf (1994)   \n",
       "2          Mr. Holland's Opus (1995)   \n",
       "3                       Akira (1988)   \n",
       "4                        Heat (1995)   \n",
       "5                           M (1931)   \n",
       "6          As Good As It Gets (1997)   \n",
       "7  Ace Ventura: Pet Detective (1994)   \n",
       "8                Career Girls (1997)   \n",
       "9            Fierce Creatures (1997)   \n",
       "\n",
       "                                                   1  \n",
       "0                                One Fine Day (1996)  \n",
       "1                                   Cure, The (1995)  \n",
       "2                                     Carpool (1996)  \n",
       "3                                        Cosi (1996)  \n",
       "4  Silence of the Palace, The (Saimt el Qusur) (1...  \n",
       "5  Prisoner of the Mountains (Kavkazsky Plennik) ...  \n",
       "6                                  Angel Baby (1995)  \n",
       "7                              Rhyme & Reason (1997)  \n",
       "8                             Golden Earrings (1947)  \n",
       "9                                      Sprung (1997)  "
      ]
     },
     "execution_count": 195,
     "metadata": {},
     "output_type": "execute_result"
    }
   ],
   "source": [
    "df.head(10)"
   ]
  },
  {
   "cell_type": "code",
   "execution_count": null,
   "metadata": {
    "collapsed": true
   },
   "outputs": [],
   "source": []
  }
 ],
 "metadata": {
  "kernelspec": {
   "display_name": "Python 3",
   "language": "python",
   "name": "python3"
  },
  "language_info": {
   "codemirror_mode": {
    "name": "ipython",
    "version": 3
   },
   "file_extension": ".py",
   "mimetype": "text/x-python",
   "name": "python",
   "nbconvert_exporter": "python",
   "pygments_lexer": "ipython3",
   "version": "3.5.2"
  }
 },
 "nbformat": 4,
 "nbformat_minor": 2
}
