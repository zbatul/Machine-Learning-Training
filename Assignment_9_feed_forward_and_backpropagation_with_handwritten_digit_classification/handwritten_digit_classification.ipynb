{
 "cells": [
  {
   "cell_type": "code",
   "execution_count": 1,
   "metadata": {
    "collapsed": false,
    "deletable": true,
    "editable": true
   },
   "outputs": [
    {
     "data": {
      "text/plain": [
       "'\\nCreated on Wed Apr 26 10:00:00 2017\\n\\n@author: Batul Zamin\\n'"
      ]
     },
     "execution_count": 1,
     "metadata": {},
     "output_type": "execute_result"
    }
   ],
   "source": [
    "\"\"\"\n",
    "Created on Wed Apr 26 10:00:00 2017\n",
    "\n",
    "@author: Batul Zamin\n",
    "\"\"\""
   ]
  },
  {
   "cell_type": "markdown",
   "metadata": {
    "deletable": true,
    "editable": true
   },
   "source": [
    "## Handwritten Digit Classification"
   ]
  },
  {
   "cell_type": "markdown",
   "metadata": {
    "deletable": true,
    "editable": true
   },
   "source": [
    "### MNIST data"
   ]
  },
  {
   "cell_type": "code",
   "execution_count": 2,
   "metadata": {
    "collapsed": false,
    "deletable": true,
    "editable": true
   },
   "outputs": [
    {
     "data": {
      "text/plain": [
       "'\\nThis module implements the stochastic (mini-batch) gradient descent algorithm for feed forward neural network.\\nGradients are calculated using backpropagation algorithm.\\n'"
      ]
     },
     "execution_count": 2,
     "metadata": {},
     "output_type": "execute_result"
    }
   ],
   "source": [
    "\"\"\"\n",
    "This module implements the stochastic (mini-batch) gradient descent algorithm for feed forward neural network.\n",
    "Gradients are calculated using backpropagation algorithm.\n",
    "\"\"\""
   ]
  },
  {
   "cell_type": "code",
   "execution_count": 3,
   "metadata": {
    "collapsed": true,
    "deletable": true,
    "editable": true
   },
   "outputs": [],
   "source": [
    "## Import statement\n",
    "import random       # Standard library\n",
    "import numpy as np  # Third-party libraries"
   ]
  },
  {
   "cell_type": "code",
   "execution_count": 4,
   "metadata": {
    "collapsed": false,
    "deletable": true,
    "editable": true
   },
   "outputs": [],
   "source": [
    "class Network(object):\n",
    "    \n",
    "    def __init__(self, sizes):\n",
    "        \"\"\"The list ``sizes`` contains the number of neurons in the respective layers of the network.  For example, if the\n",
    "        list was [2, 3, 1] then it would be a three-layer network, with the first layer containing 2 neurons, the second \n",
    "        layer 3 neurons, and the third layer 1 neuron.  The biases and weights for the network are initialized randomly, \n",
    "        using a Gaussian distribution with mean 0, and variance 1.  Note that the first layer is assumed to be an input \n",
    "        layer, and by convention we won't set any biases for those neurons, since biases are only ever used in computing \n",
    "        the outputs from later layers.\"\"\"\n",
    "        self.num_layers = len(sizes)\n",
    "        self.sizes = sizes\n",
    "        # np.randomn.randn to generate Gaussian distributions (mean 0 & std dev 1)\n",
    "        self.biases = [np.random.randn(y, 1) for y in sizes[1:]]  # [(30,1), (10,1)]\n",
    "        # omit bias for input layer\n",
    "        self.weights = [np.random.randn(y, x) for x, y in zip(sizes[:-1], sizes[1:])]  # [(30, 784), (10, 784)]\n",
    "        # weights[1] : wjk then j is 2nd layer and k is 3rd layer\n",
    "        # wjk means weight connecting jth layer neuron to kth layer neuron\n",
    "\n",
    "    def feedforward(self, a):\n",
    "        \"\"\"Return the output of the network if ``a`` is input.\"\"\"\n",
    "        # y = wx + b where w=weights, x=a=input, b=bias, y=output of feed forward network\n",
    "        # It gives 30 output in 2nd layer : a_1 = w1a1 + w2a2 +.....+w784a784 + b1\n",
    "        #                                             .\n",
    "        #                                             .\n",
    "        #                                             .\n",
    "        #                                   a_30 = w1a1 + w2a2 +.....+w784a784 + b30\n",
    "        # It gives 10 output in 3rd layer : a_1 = w1a1 + w2a2 +.....+w784a784 + b1\n",
    "        #                                             .\n",
    "        #                                             .\n",
    "        #                                             .\n",
    "        #                                   a_10 = w1a1 + w2a2 +.....+w784a784 + b10\n",
    "        for b, w in zip(self.biases, self.weights):\n",
    "            a = sigmoid(np.dot(w, a)+b)\n",
    "        return a\n",
    "\n",
    "    def SGD(self, training_data, epochs, mini_batch_size, eta, test_data=None):\n",
    "        \"\"\"Train the neural network using mini-batch stochastic gradient descent.  The ``training_data`` is a list of \n",
    "        tuples ``(x, y)`` representing the training inputs and the desired outputs.  The other non-optional parameters \n",
    "        are self-explanatory.  If ``test_data`` is provided then the network will be evaluated against the test data after\n",
    "        each epoch, and partial progress printed out.  This is useful for tracking progress, but slows things down \n",
    "        substantially.\"\"\"\n",
    "        if test_data: \n",
    "            n_test = len(test_data)\n",
    "        n = len(training_data)\n",
    "        for j in range(epochs):\n",
    "            random.shuffle(training_data)\n",
    "            mini_batches = [training_data[k:k+mini_batch_size] for k in range(0, n, mini_batch_size)]\n",
    "            for mini_batch in mini_batches:\n",
    "                self.update_mini_batch(mini_batch, eta)\n",
    "            if test_data:\n",
    "                print(\"Epoch {0}: {1} / {2}\".format(j, self.evaluate(test_data), n_test))\n",
    "            else:\n",
    "                print(\"Epoch {0} complete\".format(j))\n",
    "\n",
    "    def update_mini_batch(self, mini_batch, eta):\n",
    "        \"\"\"Update the network's weights and biases by applying gradient descent using backpropagation to a single mini \n",
    "        batch. The ``mini_batch`` is a list of tuples ``(x, y)``, and ``eta`` is the learning rate.\"\"\"\n",
    "        nabla_b = [np.zeros(b.shape) for b in self.biases]\n",
    "        nabla_w = [np.zeros(w.shape) for w in self.weights]\n",
    "        for x, y in mini_batch:\n",
    "            delta_nabla_b, delta_nabla_w = self.backprop(x, y)\n",
    "            nabla_b = [nb+dnb for nb, dnb in zip(nabla_b, delta_nabla_b)]\n",
    "            nabla_w = [nw+dnw for nw, dnw in zip(nabla_w, delta_nabla_w)]\n",
    "        self.weights = [w-(eta/len(mini_batch))*nw for w, nw in zip(self.weights, nabla_w)]\n",
    "        self.biases = [b-(eta/len(mini_batch))*nb for b, nb in zip(self.biases, nabla_b)]\n",
    "\n",
    "    def backprop(self, x, y):\n",
    "        \"\"\"Return a tuple ``(nabla_b, nabla_w)`` representing the gradient for the cost function C_x.  ``nabla_b`` and\n",
    "        ``nabla_w`` are layer-by-layer lists of numpy arrays, similar to ``self.biases`` and ``self.weights``.\"\"\"\n",
    "        nabla_b = [np.zeros(b.shape) for b in self.biases]\n",
    "        nabla_w = [np.zeros(w.shape) for w in self.weights]\n",
    "        \"\"\" -------------------------------------------forward pass-------------------------------------------------- \"\"\"\n",
    "        activation = x\n",
    "        activations = [x] # list to store all the activations, layer by layer\n",
    "        zs = []           # list to store all the z vectors, layer by layer\n",
    "        for b, w in zip(self.biases, self.weights):\n",
    "            z = np.dot(w, activation)+b\n",
    "            zs.append(z)\n",
    "            activation = sigmoid(z)          # update activation as sigmoid of z and input to next layer\n",
    "            activations.append(activation)\n",
    "        \"\"\" -------------------------------------------backward pass------------------------------------------------- \"\"\"\n",
    "        delta = self.cost_derivative(activations[-1], y) * sigmoid_prime(zs[-1]) # delta = (y_hat  - y) * sigmoid'\n",
    "        nabla_b[-1] = delta                                                      # b = delta\n",
    "        nabla_w[-1] = np.dot(delta, activations[-2].transpose())                 # w = delta * sigmoid\n",
    "        for l in range(2, self.num_layers):\n",
    "            z = zs[-l]\n",
    "            sp = sigmoid_prime(z)  # sigmoid'\n",
    "            delta = np.dot(self.weights[-l+1].transpose(), delta) * sp   \n",
    "            nabla_b[-l] = delta\n",
    "            nabla_w[-l] = np.dot(delta, activations[-l-1].transpose())\n",
    "        return (nabla_b, nabla_w)\n",
    "\n",
    "    def evaluate(self, test_data):\n",
    "        \"\"\"Return the number of test inputs for which the neural network outputs the correct result. Note that the neural\n",
    "        network's output is assumed to be the index of whichever neuron in the final layer has the highest activation.\"\"\"\n",
    "        test_results = [(np.argmax(self.feedforward(x)), y) for (x, y) in test_data]\n",
    "        return sum(int(x == y) for (x, y) in test_results)\n",
    "\n",
    "    def cost_derivative(self, output_activations, y):\n",
    "        \"\"\"Return the vector of partial derivatives \\partial C_x /partial a for the output activations.\"\"\"\n",
    "        return (output_activations-y)"
   ]
  },
  {
   "cell_type": "code",
   "execution_count": 5,
   "metadata": {
    "collapsed": true,
    "deletable": true,
    "editable": true
   },
   "outputs": [],
   "source": [
    "#### Miscellaneous functions\n",
    "def sigmoid(z):\n",
    "    \"\"\"The sigmoid function.\"\"\"\n",
    "    return 1.0/(1.0+np.exp(-z))\n",
    "\n",
    "def sigmoid_prime(z):\n",
    "    \"\"\"Derivative of the sigmoid function.\"\"\"\n",
    "    return sigmoid(z)*(1-sigmoid(z))"
   ]
  },
  {
   "cell_type": "code",
   "execution_count": 6,
   "metadata": {
    "collapsed": true,
    "deletable": true,
    "editable": true
   },
   "outputs": [],
   "source": [
    "\"\"\"\n",
    "mnist_loader\n",
    "~~~~~~~~~~~~\n",
    "\n",
    "A library to load the MNIST image data.  For details of the data\n",
    "structures that are returned, see the doc strings for ``load_data``\n",
    "and ``load_data_wrapper``.  In practice, ``load_data_wrapper`` is the\n",
    "function usually called by our neural network code.\n",
    "\"\"\"\n",
    "\n",
    "#### Libraries\n",
    "# Standard library\n",
    "import pickle\n",
    "import gzip\n",
    "\n",
    "# Third-party libraries\n",
    "import numpy as np\n",
    "\n",
    "def load_data():\n",
    "    \"\"\"Return the MNIST data as a tuple containing the training data, the validation data, and the test data.\n",
    "\n",
    "    The ``training_data`` is returned as a tuple with two entries. The first entry contains the actual training images.  \n",
    "    This is a numpy ndarray with 50,000 entries.  Each entry is, in turn, a numpy ndarray with 784 values, representing\n",
    "    the 28 * 28 = 784 pixels in a single MNIST image.\n",
    "\n",
    "    The second entry in the ``training_data`` tuple is a numpy ndarray containing 50,000 entries.  Those entries are just \n",
    "    the digit values (0...9) for the corresponding images contained in the first entry of the tuple.\n",
    "\n",
    "    The ``validation_data`` and ``test_data`` are similar, except each contains only 10,000 images.\n",
    "\n",
    "    This is a nice data format, but for use in neural networks it's helpful to modify the format of the ``training_data`` \n",
    "    a little. That's done in the wrapper function ``load_data_wrapper()``, see below.\"\"\"\n",
    "    f = gzip.open('mnist.pkl.gz', 'rb')\n",
    "    training_data, validation_data, test_data = pickle.load(f, encoding=\"latin-1\")\n",
    "    f.close()\n",
    "    return (training_data, validation_data, test_data)\n",
    "\n",
    "def load_data_wrapper():\n",
    "    \"\"\"Return a tuple containing ``(training_data, validation_data, test_data)``. Based on ``load_data``, but the format \n",
    "    is more convenient for use in our implementation of neural networks.\n",
    "\n",
    "    In particular, ``training_data`` is a list containing 50,000 2-tuples ``(x, y)``.  ``x`` is a 784-dimensional \n",
    "    numpy.ndarray containing the input image.  ``y`` is a 10-dimensional numpy.ndarray representing the unit vector\n",
    "    corresponding to the correct digit for ``x``.\n",
    "\n",
    "    ``validation_data`` and ``test_data`` are lists containing 10,000 2-tuples ``(x, y)``.  In each case, ``x`` is a \n",
    "    784-dimensional numpy.ndarry containing the input image, and ``y`` is the corresponding classification, i.e., the \n",
    "    digit values (integers) corresponding to ``x``.\n",
    "\n",
    "    Obviously, this means we're using slightly different formats for the training data and the validation / test data. \n",
    "    These formats turn out to be the most convenient for use in our neural network code.\"\"\"\n",
    "    tr_d, va_d, te_d = load_data()\n",
    "    training_inputs = [np.reshape(x, (784, 1)) for x in tr_d[0]]\n",
    "    training_results = [vectorized_result(y) for y in tr_d[1]]\n",
    "    training_data = list(zip(training_inputs, training_results))\n",
    "    validation_inputs = [np.reshape(x, (784, 1)) for x in va_d[0]]\n",
    "    validation_data = list(zip(validation_inputs, va_d[1]))\n",
    "    test_inputs = [np.reshape(x, (784, 1)) for x in te_d[0]]\n",
    "    test_data = list(zip(test_inputs, te_d[1]))\n",
    "    return (training_data, validation_data, test_data)\n",
    "\n",
    "def vectorized_result(j):\n",
    "    \"\"\"Return a 10-dimensional unit vector with a 1.0 in the jth position and zeroes elsewhere.  This is used to convert \n",
    "    a digit (0...9) into a corresponding desired output from the neural network.\"\"\"\n",
    "    e = np.zeros((10, 1))\n",
    "    e[j] = 1.0\n",
    "    return e"
   ]
  },
  {
   "cell_type": "code",
   "execution_count": 7,
   "metadata": {
    "collapsed": false,
    "deletable": true,
    "editable": true
   },
   "outputs": [],
   "source": [
    "training_data, validation_data, test_data = load_data_wrapper()"
   ]
  },
  {
   "cell_type": "code",
   "execution_count": 10,
   "metadata": {
    "collapsed": false,
    "deletable": true,
    "editable": true
   },
   "outputs": [],
   "source": [
    "net = Network([784, 30, 10])"
   ]
  },
  {
   "cell_type": "code",
   "execution_count": 12,
   "metadata": {
    "collapsed": false,
    "deletable": true,
    "editable": true
   },
   "outputs": [
    {
     "name": "stdout",
     "output_type": "stream",
     "text": [
      "Epoch 0: 9323 / 10000\n",
      "Epoch 1: 9374 / 10000\n",
      "Epoch 2: 9383 / 10000\n",
      "Epoch 3: 9388 / 10000\n",
      "Epoch 4: 9389 / 10000\n"
     ]
    }
   ],
   "source": [
    "net.SGD(training_data, 5, 10, 3.0, test_data=test_data)"
   ]
  },
  {
   "cell_type": "code",
   "execution_count": null,
   "metadata": {
    "collapsed": true
   },
   "outputs": [],
   "source": []
  }
 ],
 "metadata": {
  "kernelspec": {
   "display_name": "Python 3",
   "language": "python",
   "name": "python3"
  },
  "language_info": {
   "codemirror_mode": {
    "name": "ipython",
    "version": 3
   },
   "file_extension": ".py",
   "mimetype": "text/x-python",
   "name": "python",
   "nbconvert_exporter": "python",
   "pygments_lexer": "ipython3",
   "version": "3.5.2"
  }
 },
 "nbformat": 4,
 "nbformat_minor": 2
}
