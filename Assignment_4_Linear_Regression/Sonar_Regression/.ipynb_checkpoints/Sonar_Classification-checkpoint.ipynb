{
 "cells": [
  {
   "cell_type": "markdown",
   "metadata": {},
   "source": [
    "## Classification problem: Classify the objects based on their location"
   ]
  },
  {
   "cell_type": "code",
   "execution_count": 1,
   "metadata": {
    "collapsed": true
   },
   "outputs": [],
   "source": [
    "# import statements\n",
    "import pandas as pd\n",
    "import numpy as np\n",
    "import matplotlib.pyplot as plt\n",
    "from sklearn import linear_model, preprocessing\n",
    "import statsmodels.formula.api as sm\n",
    "import seaborn as sns\n",
    "%matplotlib inline"
   ]
  },
  {
   "cell_type": "code",
   "execution_count": 3,
   "metadata": {
    "collapsed": true
   },
   "outputs": [],
   "source": [
    "file_cls = \"Ex07_Sonar_Classification.csv\""
   ]
  },
  {
   "cell_type": "code",
   "execution_count": 4,
   "metadata": {
    "collapsed": true
   },
   "outputs": [],
   "source": [
    "sonar_data_cls = pd.read_csv(file_cls)"
   ]
  },
  {
   "cell_type": "code",
   "execution_count": 5,
   "metadata": {
    "collapsed": true
   },
   "outputs": [],
   "source": [
    "sonar_data_cls = sonar_data_cls.fillna(0)"
   ]
  },
  {
   "cell_type": "code",
   "execution_count": 6,
   "metadata": {
    "collapsed": false
   },
   "outputs": [
    {
     "data": {
      "text/html": [
       "<div>\n",
       "<table border=\"1\" class=\"dataframe\">\n",
       "  <thead>\n",
       "    <tr style=\"text-align: right;\">\n",
       "      <th></th>\n",
       "      <th>EchoTime</th>\n",
       "      <th>WaterTemp</th>\n",
       "      <th>Clconcentration</th>\n",
       "      <th>Salinity</th>\n",
       "      <th>pH</th>\n",
       "      <th>Zone</th>\n",
       "    </tr>\n",
       "  </thead>\n",
       "  <tbody>\n",
       "    <tr>\n",
       "      <th>0</th>\n",
       "      <td>4.018358</td>\n",
       "      <td>3</td>\n",
       "      <td>19.013137</td>\n",
       "      <td>34.348183</td>\n",
       "      <td>8.042168</td>\n",
       "      <td>Nonabysso</td>\n",
       "    </tr>\n",
       "    <tr>\n",
       "      <th>1</th>\n",
       "      <td>5.850474</td>\n",
       "      <td>5</td>\n",
       "      <td>19.017350</td>\n",
       "      <td>34.355793</td>\n",
       "      <td>7.956494</td>\n",
       "      <td>Nonabysso</td>\n",
       "    </tr>\n",
       "    <tr>\n",
       "      <th>2</th>\n",
       "      <td>3.575282</td>\n",
       "      <td>6</td>\n",
       "      <td>19.004284</td>\n",
       "      <td>34.332190</td>\n",
       "      <td>8.020561</td>\n",
       "      <td>Nonabysso</td>\n",
       "    </tr>\n",
       "    <tr>\n",
       "      <th>3</th>\n",
       "      <td>3.808030</td>\n",
       "      <td>6</td>\n",
       "      <td>18.989512</td>\n",
       "      <td>34.305502</td>\n",
       "      <td>7.843142</td>\n",
       "      <td>Nonabysso</td>\n",
       "    </tr>\n",
       "    <tr>\n",
       "      <th>4</th>\n",
       "      <td>5.167752</td>\n",
       "      <td>4</td>\n",
       "      <td>19.015003</td>\n",
       "      <td>34.351554</td>\n",
       "      <td>7.998218</td>\n",
       "      <td>Nonabysso</td>\n",
       "    </tr>\n",
       "  </tbody>\n",
       "</table>\n",
       "</div>"
      ],
      "text/plain": [
       "   EchoTime  WaterTemp  Clconcentration   Salinity        pH       Zone\n",
       "0  4.018358          3        19.013137  34.348183  8.042168  Nonabysso\n",
       "1  5.850474          5        19.017350  34.355793  7.956494  Nonabysso\n",
       "2  3.575282          6        19.004284  34.332190  8.020561  Nonabysso\n",
       "3  3.808030          6        18.989512  34.305502  7.843142  Nonabysso\n",
       "4  5.167752          4        19.015003  34.351554  7.998218  Nonabysso"
      ]
     },
     "execution_count": 6,
     "metadata": {},
     "output_type": "execute_result"
    }
   ],
   "source": [
    "sonar_data_cls.head()"
   ]
  },
  {
   "cell_type": "code",
   "execution_count": null,
   "metadata": {
    "collapsed": true
   },
   "outputs": [],
   "source": []
  }
 ],
 "metadata": {
  "kernelspec": {
   "display_name": "Python 3",
   "language": "python",
   "name": "python3"
  },
  "language_info": {
   "codemirror_mode": {
    "name": "ipython",
    "version": 3
   },
   "file_extension": ".py",
   "mimetype": "text/x-python",
   "name": "python",
   "nbconvert_exporter": "python",
   "pygments_lexer": "ipython3",
   "version": "3.5.2"
  }
 },
 "nbformat": 4,
 "nbformat_minor": 2
}
