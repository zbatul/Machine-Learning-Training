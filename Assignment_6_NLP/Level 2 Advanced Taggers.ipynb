{
 "cells": [
  {
   "cell_type": "markdown",
   "metadata": {
    "deletable": true,
    "editable": true
   },
   "source": [
    "## A bit more processing"
   ]
  },
  {
   "cell_type": "markdown",
   "metadata": {
    "deletable": true,
    "editable": true
   },
   "source": [
    "So here is Mr. James Wilson who wrote about Elon Musk. Here is the following content.\n",
    "\n",
    "~~~~ \n",
    "Musk was born on June 28, 1971, in Pretoria, Gauteng, South Africa,[27] the son of Maye Musk (née Haldeman), a model and dietician from Regina, Saskatchewan, Canada;[28] and Errol Musk, a South African electromechanical engineer, pilot and sailor. He has a younger brother, Kimbal (born 1972), and a younger sister, Tosca (born 1974).[28][29][30][31] His paternal grandmother was British, and he also has Pennsylvania Dutch ancestry,[32][33] and his maternal grandfather was American, from Minnesota.[34] After his parents divorced in 1980, Musk lived mostly with his father in the suburbs of Pretoria.[32]\n",
    "\n",
    "During his childhood he had an interest in reading and often did so for hours at a time.[35]\n",
    "\n",
    "At What age did Musk got interested in computing? At age 10, he developed an interest in computing with the Commodore VIC-20.[36] He taught himself computer programming at the age of 12, sold the code for a BASIC-based video game he created called Blastar, to a magazine called PC and Office Technology, for approximately $500. [37][38] A web version of the game is available online.[37][39]\n",
    "\n",
    "Musk was severely bullied throughout his childhood, and was once hospitalized when a group of boys threw him down a flight of stairs and then beat him until he lost consciousness.[40]\n",
    "\n",
    "Musk was initially educated at private schools, attending the English-speaking Waterkloof House Preparatory School. \n",
    "\n",
    "Mr. Singh helped Musk during his initial days when he was severely bullied during his childhood.\n",
    "\n",
    "Musk later graduated from Pretoria Boys High School and moved to Canada in June 1989, just before his 18th birthday,[41] after obtaining Canadian citizenship through his Canadian-born mother.[42][43] Although at the time Musk had to register to become a Canadian citizen, Bill C-37, which came into law in April of 2009, effectively made his Canadian citizenship retroactive to his birth since he was born in the first generation abroad to a Canadian-born mother. Therefore, with the law change, he is considered to have always been a Canadian citizen by birth.\n",
    "~~~~\n"
   ]
  },
  {
   "cell_type": "markdown",
   "metadata": {
    "deletable": true,
    "editable": true
   },
   "source": [
    "\n",
    "## Part - 1\n",
    "\n",
    "    Word Tokenize the content published using RegexpTokenizer\n",
    "\n",
    "\n",
    "## Part - 2\n",
    "\n",
    "    There's a kind of problem with this content there are lot of tokens which are kind of junk.\n",
    "\n",
    "    I am talking about the characters like [27] which kind of makes it difficult to read. Write a function to remove this?\n",
    "\n",
    "        1. Well there are many ways to do this\n",
    "\n",
    "            1.1 But remove these patterns using RegexpTokenizer combined with some kind of pattern matcher there are many (findall, search, match)\n",
    "\n",
    "            1.2 Remove using some other technique other than Regular Expression tokenizer\n",
    "        \n",
    "## Part - 3\n",
    "\n",
    "    Extract all the important years from the given extract. Also extract the word immediately preceded by the year. If the contained in date extract the entire date. (In reference to the document)\n",
    "    \n",
    "## Part - 4\n",
    "\n",
    "    1. Find all the words which are preceded by the year. For example in \"born 1970\" born is the word which is preceded by 1970\n",
    "    \n",
    "    2. Find all the words which are 4 characters long\n",
    "    \n",
    "    3. Find all the years which are not followed by the word born\n",
    "    \n",
    "    "
   ]
  },
  {
   "cell_type": "code",
   "execution_count": 4,
   "metadata": {
    "collapsed": true,
    "deletable": true,
    "editable": true
   },
   "outputs": [],
   "source": [
    "# import statements\n",
    "import nltk\n",
    "from nltk.tokenize import RegexpTokenizer"
   ]
  },
  {
   "cell_type": "code",
   "execution_count": 5,
   "metadata": {
    "collapsed": true,
    "deletable": true,
    "editable": true
   },
   "outputs": [],
   "source": [
    "content = \"\"\"Musk was born on June 28, 1971, in Pretoria, Gauteng, South Africa,[27] the son of Maye Musk (née Haldeman), a model and dietician from Regina, Saskatchewan, Canada;[28] and Errol Musk, a South African electromechanical engineer, pilot and sailor. He has a younger brother, Kimbal (born 1972), and a younger sister, Tosca (born 1974).[28][29][30][31] His paternal grandmother was British, and he also has Pennsylvania Dutch ancestry,[32][33] and his maternal grandfather was American, from Minnesota.[34] After his parents divorced in 1980, Musk lived mostly with his father in the suburbs of Pretoria.[32]\n",
    "\n",
    "During his childhood he had an interest in reading and often did so for hours at a time.[35]\n",
    "\n",
    "At What age did Musk got interested in computing? At age 10, he developed an interest in computing with the Commodore VIC-20.[36] He taught himself computer programming at the age of 12, sold the code for a BASIC-based video game he created called Blastar, to a magazine called PC and Office Technology, for approximately $500. [37][38] A web version of the game is available online.[37][39]\n",
    "\n",
    "Musk was severely bullied throughout his childhood, and was once hospitalized when a group of boys threw him down a flight of stairs and then beat him until he lost consciousness.[40]\n",
    "\n",
    "Musk was initially educated at private schools, attending the English-speaking Waterkloof House Preparatory School. \n",
    "\n",
    "Mr. Singh helped Musk during his initial days when he was severely bullied during his childhood.\n",
    "\n",
    "Musk later graduated from Pretoria Boys High School and moved to Canada in June 1989, just before his 18th birthday,[41] after obtaining Canadian citizenship through his Canadian-born mother.[42][43] Although at the time Musk had to register to become a Canadian citizen, Bill C-37, which came into law in April of 2009, effectively made his Canadian citizenship retroactive to his birth since he was born in the first generation abroad to a Canadian-born mother. Therefore, with the law change, he is considered to have always been a Canadian citizen by birth.\n",
    "\"\"\""
   ]
  },
  {
   "cell_type": "markdown",
   "metadata": {
    "deletable": true,
    "editable": true
   },
   "source": [
    "## Part 1"
   ]
  },
  {
   "cell_type": "code",
   "execution_count": 13,
   "metadata": {
    "collapsed": true,
    "deletable": true,
    "editable": true
   },
   "outputs": [],
   "source": [
    "word_tokenizer = RegexpTokenizer('\\s', gaps=True)"
   ]
  },
  {
   "cell_type": "code",
   "execution_count": 14,
   "metadata": {
    "collapsed": false,
    "deletable": true,
    "editable": true
   },
   "outputs": [
    {
     "data": {
      "text/plain": [
       "['Musk',\n",
       " 'was',\n",
       " 'born',\n",
       " 'on',\n",
       " 'June',\n",
       " '28,',\n",
       " '1971,',\n",
       " 'in',\n",
       " 'Pretoria,',\n",
       " 'Gauteng,',\n",
       " 'South',\n",
       " 'Africa,[27]',\n",
       " 'the',\n",
       " 'son',\n",
       " 'of',\n",
       " 'Maye',\n",
       " 'Musk',\n",
       " '(née',\n",
       " 'Haldeman),',\n",
       " 'a',\n",
       " 'model',\n",
       " 'and',\n",
       " 'dietician',\n",
       " 'from',\n",
       " 'Regina,',\n",
       " 'Saskatchewan,',\n",
       " 'Canada;[28]',\n",
       " 'and',\n",
       " 'Errol',\n",
       " 'Musk,',\n",
       " 'a',\n",
       " 'South',\n",
       " 'African',\n",
       " 'electromechanical',\n",
       " 'engineer,',\n",
       " 'pilot',\n",
       " 'and',\n",
       " 'sailor.',\n",
       " 'He',\n",
       " 'has',\n",
       " 'a',\n",
       " 'younger',\n",
       " 'brother,',\n",
       " 'Kimbal',\n",
       " '(born',\n",
       " '1972),',\n",
       " 'and',\n",
       " 'a',\n",
       " 'younger',\n",
       " 'sister,',\n",
       " 'Tosca',\n",
       " '(born',\n",
       " '1974).[28][29][30][31]',\n",
       " 'His',\n",
       " 'paternal',\n",
       " 'grandmother',\n",
       " 'was',\n",
       " 'British,',\n",
       " 'and',\n",
       " 'he',\n",
       " 'also',\n",
       " 'has',\n",
       " 'Pennsylvania',\n",
       " 'Dutch',\n",
       " 'ancestry,[32][33]',\n",
       " 'and',\n",
       " 'his',\n",
       " 'maternal',\n",
       " 'grandfather',\n",
       " 'was',\n",
       " 'American,',\n",
       " 'from',\n",
       " 'Minnesota.[34]',\n",
       " 'After',\n",
       " 'his',\n",
       " 'parents',\n",
       " 'divorced',\n",
       " 'in',\n",
       " '1980,',\n",
       " 'Musk',\n",
       " 'lived',\n",
       " 'mostly',\n",
       " 'with',\n",
       " 'his',\n",
       " 'father',\n",
       " 'in',\n",
       " 'the',\n",
       " 'suburbs',\n",
       " 'of',\n",
       " 'Pretoria.[32]',\n",
       " 'During',\n",
       " 'his',\n",
       " 'childhood',\n",
       " 'he',\n",
       " 'had',\n",
       " 'an',\n",
       " 'interest',\n",
       " 'in',\n",
       " 'reading',\n",
       " 'and',\n",
       " 'often',\n",
       " 'did',\n",
       " 'so',\n",
       " 'for',\n",
       " 'hours',\n",
       " 'at',\n",
       " 'a',\n",
       " 'time.[35]',\n",
       " 'At',\n",
       " 'What',\n",
       " 'age',\n",
       " 'did',\n",
       " 'Musk',\n",
       " 'got',\n",
       " 'interested',\n",
       " 'in',\n",
       " 'computing?',\n",
       " 'At',\n",
       " 'age',\n",
       " '10,',\n",
       " 'he',\n",
       " 'developed',\n",
       " 'an',\n",
       " 'interest',\n",
       " 'in',\n",
       " 'computing',\n",
       " 'with',\n",
       " 'the',\n",
       " 'Commodore',\n",
       " 'VIC-20.[36]',\n",
       " 'He',\n",
       " 'taught',\n",
       " 'himself',\n",
       " 'computer',\n",
       " 'programming',\n",
       " 'at',\n",
       " 'the',\n",
       " 'age',\n",
       " 'of',\n",
       " '12,',\n",
       " 'sold',\n",
       " 'the',\n",
       " 'code',\n",
       " 'for',\n",
       " 'a',\n",
       " 'BASIC-based',\n",
       " 'video',\n",
       " 'game',\n",
       " 'he',\n",
       " 'created',\n",
       " 'called',\n",
       " 'Blastar,',\n",
       " 'to',\n",
       " 'a',\n",
       " 'magazine',\n",
       " 'called',\n",
       " 'PC',\n",
       " 'and',\n",
       " 'Office',\n",
       " 'Technology,',\n",
       " 'for',\n",
       " 'approximately',\n",
       " '$500.',\n",
       " '[37][38]',\n",
       " 'A',\n",
       " 'web',\n",
       " 'version',\n",
       " 'of',\n",
       " 'the',\n",
       " 'game',\n",
       " 'is',\n",
       " 'available',\n",
       " 'online.[37][39]',\n",
       " 'Musk',\n",
       " 'was',\n",
       " 'severely',\n",
       " 'bullied',\n",
       " 'throughout',\n",
       " 'his',\n",
       " 'childhood,',\n",
       " 'and',\n",
       " 'was',\n",
       " 'once',\n",
       " 'hospitalized',\n",
       " 'when',\n",
       " 'a',\n",
       " 'group',\n",
       " 'of',\n",
       " 'boys',\n",
       " 'threw',\n",
       " 'him',\n",
       " 'down',\n",
       " 'a',\n",
       " 'flight',\n",
       " 'of',\n",
       " 'stairs',\n",
       " 'and',\n",
       " 'then',\n",
       " 'beat',\n",
       " 'him',\n",
       " 'until',\n",
       " 'he',\n",
       " 'lost',\n",
       " 'consciousness.[40]',\n",
       " 'Musk',\n",
       " 'was',\n",
       " 'initially',\n",
       " 'educated',\n",
       " 'at',\n",
       " 'private',\n",
       " 'schools,',\n",
       " 'attending',\n",
       " 'the',\n",
       " 'English-speaking',\n",
       " 'Waterkloof',\n",
       " 'House',\n",
       " 'Preparatory',\n",
       " 'School.',\n",
       " 'Mr.',\n",
       " 'Singh',\n",
       " 'helped',\n",
       " 'Musk',\n",
       " 'during',\n",
       " 'his',\n",
       " 'initial',\n",
       " 'days',\n",
       " 'when',\n",
       " 'he',\n",
       " 'was',\n",
       " 'severely',\n",
       " 'bullied',\n",
       " 'during',\n",
       " 'his',\n",
       " 'childhood.',\n",
       " 'Musk',\n",
       " 'later',\n",
       " 'graduated',\n",
       " 'from',\n",
       " 'Pretoria',\n",
       " 'Boys',\n",
       " 'High',\n",
       " 'School',\n",
       " 'and',\n",
       " 'moved',\n",
       " 'to',\n",
       " 'Canada',\n",
       " 'in',\n",
       " 'June',\n",
       " '1989,',\n",
       " 'just',\n",
       " 'before',\n",
       " 'his',\n",
       " '18th',\n",
       " 'birthday,[41]',\n",
       " 'after',\n",
       " 'obtaining',\n",
       " 'Canadian',\n",
       " 'citizenship',\n",
       " 'through',\n",
       " 'his',\n",
       " 'Canadian-born',\n",
       " 'mother.[42][43]',\n",
       " 'Although',\n",
       " 'at',\n",
       " 'the',\n",
       " 'time',\n",
       " 'Musk',\n",
       " 'had',\n",
       " 'to',\n",
       " 'register',\n",
       " 'to',\n",
       " 'become',\n",
       " 'a',\n",
       " 'Canadian',\n",
       " 'citizen,',\n",
       " 'Bill',\n",
       " 'C-37,',\n",
       " 'which',\n",
       " 'came',\n",
       " 'into',\n",
       " 'law',\n",
       " 'in',\n",
       " 'April',\n",
       " 'of',\n",
       " '2009,',\n",
       " 'effectively',\n",
       " 'made',\n",
       " 'his',\n",
       " 'Canadian',\n",
       " 'citizenship',\n",
       " 'retroactive',\n",
       " 'to',\n",
       " 'his',\n",
       " 'birth',\n",
       " 'since',\n",
       " 'he',\n",
       " 'was',\n",
       " 'born',\n",
       " 'in',\n",
       " 'the',\n",
       " 'first',\n",
       " 'generation',\n",
       " 'abroad',\n",
       " 'to',\n",
       " 'a',\n",
       " 'Canadian-born',\n",
       " 'mother.',\n",
       " 'Therefore,',\n",
       " 'with',\n",
       " 'the',\n",
       " 'law',\n",
       " 'change,',\n",
       " 'he',\n",
       " 'is',\n",
       " 'considered',\n",
       " 'to',\n",
       " 'have',\n",
       " 'always',\n",
       " 'been',\n",
       " 'a',\n",
       " 'Canadian',\n",
       " 'citizen',\n",
       " 'by',\n",
       " 'birth.']"
      ]
     },
     "execution_count": 14,
     "metadata": {},
     "output_type": "execute_result"
    }
   ],
   "source": [
    "word_tokenizer.tokenize(content)"
   ]
  },
  {
   "cell_type": "markdown",
   "metadata": {
    "deletable": true,
    "editable": true
   },
   "source": [
    "## Part 2"
   ]
  },
  {
   "cell_type": "markdown",
   "metadata": {
    "deletable": true,
    "editable": true
   },
   "source": [
    "## Remove junk using RegexpTokenizer"
   ]
  },
  {
   "cell_type": "code",
   "execution_count": 151,
   "metadata": {
    "collapsed": true,
    "deletable": true,
    "editable": true
   },
   "outputs": [],
   "source": [
    "import re"
   ]
  },
  {
   "cell_type": "code",
   "execution_count": 152,
   "metadata": {
    "collapsed": true,
    "deletable": true,
    "editable": true
   },
   "outputs": [],
   "source": [
    "pattern = r\"[\\[]+[\\d]+[\\]]\""
   ]
  },
  {
   "cell_type": "code",
   "execution_count": 153,
   "metadata": {
    "collapsed": true,
    "deletable": true,
    "editable": true
   },
   "outputs": [],
   "source": [
    "junk_tokenizer = RegexpTokenizer(pattern, gaps=True)"
   ]
  },
  {
   "cell_type": "code",
   "execution_count": 154,
   "metadata": {
    "collapsed": false,
    "deletable": true,
    "editable": true
   },
   "outputs": [],
   "source": [
    "tokens = junk_tokenizer.tokenize(content)"
   ]
  },
  {
   "cell_type": "code",
   "execution_count": 155,
   "metadata": {
    "collapsed": false,
    "deletable": true,
    "editable": true
   },
   "outputs": [],
   "source": [
    "new_content = \"\"\n",
    "for i in tokens:\n",
    "    new_content += i"
   ]
  },
  {
   "cell_type": "code",
   "execution_count": 156,
   "metadata": {
    "collapsed": false,
    "deletable": true,
    "editable": true,
    "scrolled": true
   },
   "outputs": [
    {
     "data": {
      "text/plain": [
       "'Musk was born on June 28, 1971, in Pretoria, Gauteng, South Africa, the son of Maye Musk (née Haldeman), a model and dietician from Regina, Saskatchewan, Canada; and Errol Musk, a South African electromechanical engineer, pilot and sailor. He has a younger brother, Kimbal (born 1972), and a younger sister, Tosca (born 1974). His paternal grandmother was British, and he also has Pennsylvania Dutch ancestry, and his maternal grandfather was American, from Minnesota. After his parents divorced in 1980, Musk lived mostly with his father in the suburbs of Pretoria.\\n\\nDuring his childhood he had an interest in reading and often did so for hours at a time.\\n\\nAt What age did Musk got interested in computing? At age 10, he developed an interest in computing with the Commodore VIC-20. He taught himself computer programming at the age of 12, sold the code for a BASIC-based video game he created called Blastar, to a magazine called PC and Office Technology, for approximately $500.  A web version of the game is available online.\\n\\nMusk was severely bullied throughout his childhood, and was once hospitalized when a group of boys threw him down a flight of stairs and then beat him until he lost consciousness.\\n\\nMusk was initially educated at private schools, attending the English-speaking Waterkloof House Preparatory School. \\n\\nMr. Singh helped Musk during his initial days when he was severely bullied during his childhood.\\n\\nMusk later graduated from Pretoria Boys High School and moved to Canada in June 1989, just before his 18th birthday, after obtaining Canadian citizenship through his Canadian-born mother. Although at the time Musk had to register to become a Canadian citizen, Bill C-37, which came into law in April of 2009, effectively made his Canadian citizenship retroactive to his birth since he was born in the first generation abroad to a Canadian-born mother. Therefore, with the law change, he is considered to have always been a Canadian citizen by birth.\\n'"
      ]
     },
     "execution_count": 156,
     "metadata": {},
     "output_type": "execute_result"
    }
   ],
   "source": [
    "new_content"
   ]
  },
  {
   "cell_type": "markdown",
   "metadata": {
    "deletable": true,
    "editable": true
   },
   "source": [
    "## Remove junk using other technique"
   ]
  },
  {
   "cell_type": "code",
   "execution_count": 157,
   "metadata": {
    "collapsed": false,
    "deletable": true,
    "editable": true
   },
   "outputs": [],
   "source": [
    "new_own = re.sub(r\"\\[\\d+\\]+\", \" \", content)"
   ]
  },
  {
   "cell_type": "code",
   "execution_count": 158,
   "metadata": {
    "collapsed": false,
    "deletable": true,
    "editable": true
   },
   "outputs": [
    {
     "data": {
      "text/plain": [
       "'Musk was born on June 28, 1971, in Pretoria, Gauteng, South Africa,  the son of Maye Musk (née Haldeman), a model and dietician from Regina, Saskatchewan, Canada;  and Errol Musk, a South African electromechanical engineer, pilot and sailor. He has a younger brother, Kimbal (born 1972), and a younger sister, Tosca (born 1974).     His paternal grandmother was British, and he also has Pennsylvania Dutch ancestry,   and his maternal grandfather was American, from Minnesota.  After his parents divorced in 1980, Musk lived mostly with his father in the suburbs of Pretoria. \\n\\nDuring his childhood he had an interest in reading and often did so for hours at a time. \\n\\nAt What age did Musk got interested in computing? At age 10, he developed an interest in computing with the Commodore VIC-20.  He taught himself computer programming at the age of 12, sold the code for a BASIC-based video game he created called Blastar, to a magazine called PC and Office Technology, for approximately $500.    A web version of the game is available online.  \\n\\nMusk was severely bullied throughout his childhood, and was once hospitalized when a group of boys threw him down a flight of stairs and then beat him until he lost consciousness. \\n\\nMusk was initially educated at private schools, attending the English-speaking Waterkloof House Preparatory School. \\n\\nMr. Singh helped Musk during his initial days when he was severely bullied during his childhood.\\n\\nMusk later graduated from Pretoria Boys High School and moved to Canada in June 1989, just before his 18th birthday,  after obtaining Canadian citizenship through his Canadian-born mother.   Although at the time Musk had to register to become a Canadian citizen, Bill C-37, which came into law in April of 2009, effectively made his Canadian citizenship retroactive to his birth since he was born in the first generation abroad to a Canadian-born mother. Therefore, with the law change, he is considered to have always been a Canadian citizen by birth.\\n'"
      ]
     },
     "execution_count": 158,
     "metadata": {},
     "output_type": "execute_result"
    }
   ],
   "source": [
    "new_own"
   ]
  },
  {
   "cell_type": "markdown",
   "metadata": {
    "deletable": true,
    "editable": true
   },
   "source": [
    "## Part 3"
   ]
  },
  {
   "cell_type": "markdown",
   "metadata": {
    "deletable": true,
    "editable": true
   },
   "source": [
    "## Extract all years from the document"
   ]
  },
  {
   "cell_type": "code",
   "execution_count": 159,
   "metadata": {
    "collapsed": true,
    "deletable": true,
    "editable": true
   },
   "outputs": [],
   "source": [
    "pattern_year = r\"\\d{4}\""
   ]
  },
  {
   "cell_type": "code",
   "execution_count": 160,
   "metadata": {
    "collapsed": true,
    "deletable": true,
    "editable": true
   },
   "outputs": [],
   "source": [
    "year_tokenizer = RegexpTokenizer(pattern_year, gaps=False)"
   ]
  },
  {
   "cell_type": "code",
   "execution_count": 161,
   "metadata": {
    "collapsed": true,
    "deletable": true,
    "editable": true
   },
   "outputs": [],
   "source": [
    "tokens_year = year_tokenizer.tokenize(content)"
   ]
  },
  {
   "cell_type": "code",
   "execution_count": 162,
   "metadata": {
    "collapsed": false,
    "deletable": true,
    "editable": true
   },
   "outputs": [
    {
     "data": {
      "text/plain": [
       "['1971', '1972', '1974', '1980', '1989', '2009']"
      ]
     },
     "execution_count": 162,
     "metadata": {},
     "output_type": "execute_result"
    }
   ],
   "source": [
    "tokens_year"
   ]
  },
  {
   "cell_type": "markdown",
   "metadata": {
    "deletable": true,
    "editable": true
   },
   "source": [
    "## Extract the word immediately preceded by the year"
   ]
  },
  {
   "cell_type": "code",
   "execution_count": 325,
   "metadata": {
    "collapsed": true,
    "deletable": true,
    "editable": true
   },
   "outputs": [],
   "source": [
    "pattern_word = r\"\\w+\\s\\d{2},\\s\\d{4}|\\w+\\s\\d{4}\""
   ]
  },
  {
   "cell_type": "code",
   "execution_count": 326,
   "metadata": {
    "collapsed": false,
    "deletable": true,
    "editable": true
   },
   "outputs": [
    {
     "data": {
      "text/plain": [
       "['June 28, 1971', 'born 1972', 'born 1974', 'in 1980', 'June 1989', 'of 2009']"
      ]
     },
     "execution_count": 326,
     "metadata": {},
     "output_type": "execute_result"
    }
   ],
   "source": [
    "re.findall(pattern_word, content)"
   ]
  },
  {
   "cell_type": "markdown",
   "metadata": {
    "deletable": true,
    "editable": true
   },
   "source": [
    "## Part 4"
   ]
  },
  {
   "cell_type": "code",
   "execution_count": 163,
   "metadata": {
    "collapsed": true,
    "deletable": true,
    "editable": true
   },
   "outputs": [],
   "source": [
    "# A(?=B) lookahead positive\n",
    "# A(?!B) lookhead negative\n",
    "# (?<=B)A lookbehind positive\n",
    "# (?<!B)A loohbehind negative"
   ]
  },
  {
   "cell_type": "markdown",
   "metadata": {
    "deletable": true,
    "editable": true
   },
   "source": [
    "## Find all the words which are preceded by the year"
   ]
  },
  {
   "cell_type": "code",
   "execution_count": 343,
   "metadata": {
    "collapsed": false,
    "deletable": true,
    "editable": true
   },
   "outputs": [],
   "source": [
    "prec_word = re.findall(r\"(\\w+)(?=\\s\\d{4})\", content)"
   ]
  },
  {
   "cell_type": "code",
   "execution_count": 344,
   "metadata": {
    "collapsed": false,
    "deletable": true,
    "editable": true
   },
   "outputs": [
    {
     "data": {
      "text/plain": [
       "['born', 'born', 'in', 'June', 'of']"
      ]
     },
     "execution_count": 344,
     "metadata": {},
     "output_type": "execute_result"
    }
   ],
   "source": [
    "prec_word"
   ]
  },
  {
   "cell_type": "markdown",
   "metadata": {
    "deletable": true,
    "editable": true
   },
   "source": [
    "## Find all the words which are 4 characters long"
   ]
  },
  {
   "cell_type": "code",
   "execution_count": 367,
   "metadata": {
    "collapsed": false,
    "deletable": true,
    "editable": true
   },
   "outputs": [
    {
     "data": {
      "text/plain": [
       "['Musk',\n",
       " 'born',\n",
       " 'June',\n",
       " 'Maye',\n",
       " 'Musk',\n",
       " 'from',\n",
       " 'Musk',\n",
       " 'born',\n",
       " 'born',\n",
       " 'also',\n",
       " 'from',\n",
       " 'Musk',\n",
       " 'with',\n",
       " 'time',\n",
       " 'What',\n",
       " 'Musk',\n",
       " 'with',\n",
       " 'sold',\n",
       " 'code',\n",
       " 'game',\n",
       " 'game',\n",
       " 'Musk',\n",
       " 'once',\n",
       " 'when',\n",
       " 'boys',\n",
       " 'down',\n",
       " 'then',\n",
       " 'beat',\n",
       " 'lost',\n",
       " 'Musk',\n",
       " 'Musk',\n",
       " 'days',\n",
       " 'when',\n",
       " 'Musk',\n",
       " 'from',\n",
       " 'Boys',\n",
       " 'High',\n",
       " 'June',\n",
       " 'just',\n",
       " 'born',\n",
       " 'time',\n",
       " 'Musk',\n",
       " 'Bill',\n",
       " 'came',\n",
       " 'into',\n",
       " 'made',\n",
       " 'born',\n",
       " 'born',\n",
       " 'with',\n",
       " 'have',\n",
       " 'been']"
      ]
     },
     "execution_count": 367,
     "metadata": {},
     "output_type": "execute_result"
    }
   ],
   "source": [
    "re.findall(r\"\\b[A-Za-z]{4}\\b\", content)"
   ]
  },
  {
   "cell_type": "markdown",
   "metadata": {
    "deletable": true,
    "editable": true
   },
   "source": [
    "## Find all the years which are not followed by the word born"
   ]
  },
  {
   "cell_type": "code",
   "execution_count": 436,
   "metadata": {
    "collapsed": false,
    "deletable": true,
    "editable": true
   },
   "outputs": [
    {
     "data": {
      "text/plain": [
       "['1971', '1980', '1989', '2009']"
      ]
     },
     "execution_count": 436,
     "metadata": {},
     "output_type": "execute_result"
    }
   ],
   "source": [
    "re.findall(r\"(?<!born )(\\d{4})\", content)"
   ]
  },
  {
   "cell_type": "code",
   "execution_count": null,
   "metadata": {
    "collapsed": true,
    "deletable": true,
    "editable": true
   },
   "outputs": [],
   "source": []
  }
 ],
 "metadata": {
  "kernelspec": {
   "display_name": "Python 3",
   "language": "python",
   "name": "python3"
  },
  "language_info": {
   "codemirror_mode": {
    "name": "ipython",
    "version": 3
   },
   "file_extension": ".py",
   "mimetype": "text/x-python",
   "name": "python",
   "nbconvert_exporter": "python",
   "pygments_lexer": "ipython3",
   "version": "3.5.2"
  }
 },
 "nbformat": 4,
 "nbformat_minor": 2
}
