{
 "cells": [
  {
   "cell_type": "markdown",
   "metadata": {
    "deletable": true,
    "editable": true
   },
   "source": [
    "### Word Sense Disambiguity"
   ]
  },
  {
   "cell_type": "markdown",
   "metadata": {
    "deletable": true,
    "editable": true
   },
   "source": [
    "Given the following sentences:\n",
    "\n",
    "    The agent will book the to the show for the entire family.\n",
    "    But you can generally book tickets online.\n",
    "    When you book tickets online they provide you with a book of stamps\n",
    "    \n",
    "If you could see the above sentences the word book is used in different context. In first two sentences the word book(verb) refers to the meaning 'reserve' while in the second portion of the third sentence book(noun) refers to a physical entity."
   ]
  },
  {
   "cell_type": "markdown",
   "metadata": {
    "deletable": true,
    "editable": true
   },
   "source": [
    "## Part - 1\n",
    "\n",
    "    Use the Lesk Module to find the similar words of the word *book* using the above sentences. Record your observations.\n",
    "    \n",
    "## Part - 2\n",
    "\n",
    "Tag sentences using Brill Tagger.\n",
    "\n",
    "### Brill Tagger\n",
    "\n",
    "The BrillTagger class is a **transformation-based tagger**. The BrillTagger class uses a series\n",
    "of rules to correct the results of an initial tagger. These rules are scored based on how many\n",
    "errors they correct minus the number of new errors they produce.\n",
    "\n",
    "The idea is simple Brill Tagger tries to correct the mistake made by the inital tagger. Brill tagger inputs an initial tagger and the templates which autmatically tells to create new rules based on the Training Set.\n",
    "\n",
    "**Recommended Steps:**\n",
    "\n",
    "1. Initially tag the sentence using POS Tagger. Then observe the POS tags for the word book in different context\n",
    "2. Then create a tagged_sentence using the POS Tagger correcting it with the mistakes it made.\n",
    "3. Now create a Brill Tagger using an initial tagger (POS) and pass templates(rules) to it.\n",
    "4. Train the Brill Tagger using the Tagged Sentence\n",
    "5. Test the Brill Tagger on the following sentences:\n",
    "       > \"I bought this book from Kerala\"\n",
    "       > \"He will book tickets to Kerala\"\n",
    "       \n",
    "## Part - 3\n",
    "\n",
    "    Perform Part-1 again but passing the POS tags produced by the Brill Tagger.\n",
    "    "
   ]
  },
  {
   "cell_type": "markdown",
   "metadata": {
    "deletable": true,
    "editable": true
   },
   "source": []
  },
  {
   "cell_type": "code",
   "execution_count": 1,
   "metadata": {
    "collapsed": true,
    "deletable": true,
    "editable": true
   },
   "outputs": [],
   "source": [
    "import nltk\n",
    "from nltk.wsd import lesk\n",
    "from nltk.corpus import wordnet as wn\n",
    "from nltk.tokenize import word_tokenize, sent_tokenize"
   ]
  },
  {
   "cell_type": "code",
   "execution_count": 2,
   "metadata": {
    "collapsed": true,
    "deletable": true,
    "editable": true
   },
   "outputs": [],
   "source": [
    "content = \"\"\"The agent will book the to the show for the entire family.\n",
    "But you can generally book tickets online.\n",
    "When you book tickets online they provide you with a book of stamps\"\"\""
   ]
  },
  {
   "cell_type": "markdown",
   "metadata": {
    "deletable": true,
    "editable": true
   },
   "source": [
    "## Part - 1"
   ]
  },
  {
   "cell_type": "markdown",
   "metadata": {
    "deletable": true,
    "editable": true
   },
   "source": [
    "Use the Lesk Module to find the similar words of the word *book* using the above sentences. Record your observations."
   ]
  },
  {
   "cell_type": "code",
   "execution_count": 3,
   "metadata": {
    "collapsed": false,
    "deletable": true,
    "editable": true
   },
   "outputs": [
    {
     "name": "stdout",
     "output_type": "stream",
     "text": [
      "Sentence 1 : The agent will book the to the show for the entire family.\n",
      "POS tag of book: NN\n",
      "Synset('koran.n.01') : the sacred writings of Islam revealed by God to the prophet Muhammad during his life at Mecca and Medina\n",
      "Sentence 2 : But you can generally book tickets online.\n",
      "POS tag of book: NN\n",
      "Synset('script.n.01') : a written version of a play or other dramatic composition; used in preparing for a performance\n",
      "Sentence 3 : When you book tickets online they provide you with a book of stamps\n",
      "POS tag of book: NN\n",
      "Synset('book.n.11') : a number of sheets (ticket or stamps etc.) bound together on one edge\n"
     ]
    }
   ],
   "source": [
    "words = word_tokenize(content)\n",
    "sentences = sent_tokenize(content)\n",
    "count = 1\n",
    "for i in sentences:\n",
    "    print(\"Sentence\",count, end=\" : \")\n",
    "    print(i)\n",
    "    word_sent = word_tokenize(i)\n",
    "    tag = nltk.pos_tag(word_sent)\n",
    "    for (i,j) in tag:\n",
    "        if i == 'book':\n",
    "            t = j\n",
    "    print(\"POS tag of book:\", t)\n",
    "    sim = lesk(word_sent, 'book')\n",
    "    print(sim, end=\" : \")\n",
    "    print(sim.definition())\n",
    "    count += 1"
   ]
  },
  {
   "cell_type": "markdown",
   "metadata": {
    "deletable": true,
    "editable": true
   },
   "source": [
    "## Part - 2"
   ]
  },
  {
   "cell_type": "markdown",
   "metadata": {
    "deletable": true,
    "editable": true
   },
   "source": [
    "Tag sentences using Brill Tagger."
   ]
  },
  {
   "cell_type": "code",
   "execution_count": 4,
   "metadata": {
    "collapsed": true,
    "deletable": true,
    "editable": true
   },
   "outputs": [],
   "source": [
    "from nltk.tag.brill import *\n",
    "import nltk.tag.brill_trainer as bt"
   ]
  },
  {
   "cell_type": "code",
   "execution_count": 5,
   "metadata": {
    "collapsed": false,
    "deletable": true,
    "editable": true
   },
   "outputs": [
    {
     "name": "stdout",
     "output_type": "stream",
     "text": [
      "[[('The', 'DT'), ('agent', 'NN'), ('will', 'MD'), ('book', 'NN'), ('the', 'DT'), ('to', 'TO'), ('the', 'DT'), ('show', 'NN'), ('for', 'IN'), ('the', 'DT'), ('entire', 'JJ'), ('family', 'NN'), ('.', '.')], [('But', 'CC'), ('you', 'PRP'), ('can', 'MD'), ('generally', 'RB'), ('book', 'NN'), ('tickets', 'NNS'), ('online', 'VBP'), ('.', '.')], [('When', 'WRB'), ('you', 'PRP'), ('book', 'NN'), ('tickets', 'NNS'), ('online', 'VBP'), ('they', 'PRP'), ('provide', 'VBP'), ('you', 'PRP'), ('with', 'IN'), ('a', 'DT'), ('book', 'NN'), ('of', 'IN'), ('stamps', 'NNS')]]\n"
     ]
    }
   ],
   "source": [
    "tags = []\n",
    "for i in sentences:\n",
    "    words = word_tokenize(i)\n",
    "    t = nltk.pos_tag(words)\n",
    "    tags.append(t)\n",
    "print(tags)"
   ]
  },
  {
   "cell_type": "code",
   "execution_count": 28,
   "metadata": {
    "collapsed": false,
    "deletable": true,
    "editable": true
   },
   "outputs": [
    {
     "name": "stdout",
     "output_type": "stream",
     "text": [
      "[[('The', 'DT'), ('agent', 'NN'), ('will', 'MD'), ('book', 'VB'), ('the', 'DT'), ('to', 'TO'), ('the', 'DT'), ('show', 'NN'), ('for', 'IN'), ('the', 'DT'), ('entire', 'JJ'), ('family', 'NN'), ('.', '.')], [('But', 'CC'), ('you', 'PRP'), ('can', 'MD'), ('generally', 'RB'), ('book', 'VB'), ('tickets', 'NNS'), ('online', 'VBP'), ('.', '.')], [('When', 'WRB'), ('you', 'PRP'), ('book', 'VB'), ('tickets', 'NNS'), ('online', 'VBP'), ('they', 'PRP'), ('provide', 'VBP'), ('you', 'PRP'), ('with', 'IN'), ('a', 'DT'), ('book', 'NN'), ('of', 'IN'), ('stamps', 'NNS')]]\n"
     ]
    }
   ],
   "source": [
    "tags[0][3] = ('book', 'VB')\n",
    "tags[1][4] = ('book', 'VB')\n",
    "tags[2][2] = ('book', 'VB')\n",
    "print(tags)"
   ]
  },
  {
   "cell_type": "code",
   "execution_count": 7,
   "metadata": {
    "collapsed": true,
    "deletable": true,
    "editable": true
   },
   "outputs": [],
   "source": [
    "tagger_path = '/home/user/nltk_data/taggers/maxent_treebank_pos_tagger/english.pickle'\n",
    "default_tagger = nltk.data.load(tagger_path)\n",
    "model = {'book':'VB'}\n",
    "tagger = nltk.tag.UnigramTagger(model = model, backoff = default_tagger)"
   ]
  },
  {
   "cell_type": "code",
   "execution_count": 8,
   "metadata": {
    "collapsed": false,
    "deletable": true,
    "editable": true
   },
   "outputs": [
    {
     "name": "stdout",
     "output_type": "stream",
     "text": [
      "TBL train (fast) (seqs: 3; tokens: 34; tpls: 37; min score: 2; min acc: None)\n",
      "Finding initial useful rules...\n",
      "    Found 82 useful rules.\n",
      "\n",
      "           B      |\n",
      "   S   F   r   O  |        Score = Fixed - Broken\n",
      "   c   i   o   t  |  R     Fixed = num tags changed incorrect -> correct\n",
      "   o   x   k   h  |  u     Broken = num tags changed correct -> incorrect\n",
      "   r   e   e   e  |  l     Other = num tags changed incorrect -> incorrect\n",
      "   e   d   n   r  |  e\n",
      "------------------+-------------------------------------------------------\n"
     ]
    }
   ],
   "source": [
    "templates = fntbl37()\n",
    "tagger = bt.BrillTaggerTrainer(default_tagger, templates, trace=3)\n",
    "tagger = tagger.train(tags, max_rules=250)"
   ]
  },
  {
   "cell_type": "code",
   "execution_count": 9,
   "metadata": {
    "collapsed": true,
    "deletable": true,
    "editable": true
   },
   "outputs": [],
   "source": [
    "test1 = \"I bought this book from Kerala\"\n",
    "test2 = \"He will book tickets to Kerala\""
   ]
  },
  {
   "cell_type": "code",
   "execution_count": 10,
   "metadata": {
    "collapsed": false,
    "deletable": true,
    "editable": true
   },
   "outputs": [
    {
     "name": "stdout",
     "output_type": "stream",
     "text": [
      "[('I', 'PRP'), ('bought', 'VBD'), ('this', 'DT'), ('book', 'NN'), ('from', 'IN'), ('Kerala', 'NNP')]\n",
      "[('He', 'PRP'), ('will', 'MD'), ('book', 'VB'), ('tickets', 'NNS'), ('to', 'TO'), ('Kerala', 'NNP')]\n"
     ]
    }
   ],
   "source": [
    "print(tagger.tag(word_tokenize(test1)))\n",
    "print(tagger.tag(word_tokenize(test2)))"
   ]
  },
  {
   "cell_type": "markdown",
   "metadata": {
    "collapsed": true,
    "deletable": true,
    "editable": true
   },
   "source": [
    "## Part - 3"
   ]
  },
  {
   "cell_type": "markdown",
   "metadata": {
    "deletable": true,
    "editable": true
   },
   "source": [
    "Perform Part-1 again but passing the POS tags produced by the Brill Tagger."
   ]
  },
  {
   "cell_type": "code",
   "execution_count": 19,
   "metadata": {
    "collapsed": false,
    "deletable": true,
    "editable": true
   },
   "outputs": [],
   "source": [
    "def get_wordnet_pos(pos_tag):\n",
    "    if pos_tag.startswith('J'):\n",
    "        return (wn.ADJ)\n",
    "    elif pos_tag.startswith('V'):\n",
    "        return (wn.VERB)\n",
    "    elif pos_tag.startswith('N'):\n",
    "        return (wn.NOUN)\n",
    "    elif pos_tag.startswith('R'):\n",
    "        return (wn.ADV)\n",
    "    else:\n",
    "        return (wn.NOUN)"
   ]
  },
  {
   "cell_type": "code",
   "execution_count": 23,
   "metadata": {
    "collapsed": false,
    "deletable": true,
    "editable": true
   },
   "outputs": [
    {
     "name": "stdout",
     "output_type": "stream",
     "text": [
      "Sentence 1 : The agent will book the to the show for the entire family.\n",
      "POS tag of book: VB\n",
      "Synset('reserve.v.04') : arrange for and reserve (something for someone else) in advance\n",
      "Sentence 2 : But you can generally book tickets online.\n",
      "POS tag of book: VB\n",
      "Synset('reserve.v.04') : arrange for and reserve (something for someone else) in advance\n",
      "Sentence 3 : When you book tickets online they provide you with a book of stamps\n",
      "POS tag of book: NN\n",
      "Synset('book.n.11') : a number of sheets (ticket or stamps etc.) bound together on one edge\n"
     ]
    }
   ],
   "source": [
    "count_new = 1\n",
    "for i in sentences:\n",
    "    print(\"Sentence\",count_new, end=\" : \")\n",
    "    print(i)\n",
    "    word_sent_new = word_tokenize(i)\n",
    "    tag_new = tagger.tag(word_sent_new)\n",
    "    for (i,j) in tag_new:\n",
    "        if i == 'book':\n",
    "            t_new = j\n",
    "    print(\"POS tag of book:\", t_new)\n",
    "    pos = get_wordnet_pos(t_new)\n",
    "    sim_new = lesk(word_sent_new, 'book', pos)\n",
    "    print(sim_new, end=\" : \")\n",
    "    print(sim_new.definition())\n",
    "    count_new += 1"
   ]
  },
  {
   "cell_type": "code",
   "execution_count": null,
   "metadata": {
    "collapsed": true
   },
   "outputs": [],
   "source": []
  }
 ],
 "metadata": {
  "kernelspec": {
   "display_name": "Python 3",
   "language": "python",
   "name": "python3"
  },
  "language_info": {
   "codemirror_mode": {
    "name": "ipython",
    "version": 3
   },
   "file_extension": ".py",
   "mimetype": "text/x-python",
   "name": "python",
   "nbconvert_exporter": "python",
   "pygments_lexer": "ipython3",
   "version": "3.5.2"
  }
 },
 "nbformat": 4,
 "nbformat_minor": 2
}
