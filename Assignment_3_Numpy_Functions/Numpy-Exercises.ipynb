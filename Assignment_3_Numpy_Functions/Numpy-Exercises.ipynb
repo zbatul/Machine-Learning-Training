{
 "cells": [
  {
   "cell_type": "markdown",
   "metadata": {},
   "source": [
    "## Numpy Exercises\n",
    "\n",
    "## Part - A\n",
    "\n",
    "#### Make use of the following inbuilt api's\n",
    "1. min\n",
    "2. max\n",
    "2. mean\n",
    "3. argmin\n",
    "4. argmax\n",
    "5. linalg.solve\n",
    "6. flatten\n",
    "7. ravel\n",
    "8. dot Product\n",
    "9. \\* for Matrix (Element wise multiplication)\n",
    "10. arange followed by reshape\n",
    "11. identity / eye\n",
    "12. sum\n",
    "13. diag\n",
    "14. tril / triu\n",
    "\n",
    "## Part - B\n",
    "\n",
    "#### For the all api's mentioned above implement your own version of it. Except linalg.solve. At minimum each implementation of yours should support 2d matrices.\n"
   ]
  },
  {
   "cell_type": "code",
   "execution_count": null,
   "metadata": {
    "collapsed": true
   },
   "outputs": [],
   "source": []
  }
 ],
 "metadata": {
  "kernelspec": {
   "display_name": "Python 3",
   "language": "python",
   "name": "python3"
  },
  "language_info": {
   "codemirror_mode": {
    "name": "ipython",
    "version": 3
   },
   "file_extension": ".py",
   "mimetype": "text/x-python",
   "name": "python",
   "nbconvert_exporter": "python",
   "pygments_lexer": "ipython3",
   "version": "3.5.2"
  }
 },
 "nbformat": 4,
 "nbformat_minor": 2
}
